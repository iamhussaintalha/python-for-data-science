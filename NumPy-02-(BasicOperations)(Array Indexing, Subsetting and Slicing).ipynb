{
 "cells": [
  {
   "cell_type": "markdown",
   "id": "a5a92293",
   "metadata": {},
   "source": [
    "# Part -I (Basic Operations on NumPy Arrays)"
   ]
  },
  {
   "cell_type": "markdown",
   "id": "7aeadcc5",
   "metadata": {},
   "source": [
    "## Learning agenda \n",
    "- Operations on numPy arrays are done element-wise. This means that you don't explicitly have to write for-loops in order to do these operations!\n",
    "- A universal function, or ufunc, is a function that performs element-wise operations on data in ndarrays. You can think of them as fast vectorized wrappers for simple functions that take one or more scalar values and produce one or more scalar results.\n",
    "1. Scalar Math\n",
    "    - On 1-D Arrays\n",
    "    - On 2-D Arrays\n",
    "2. Arithmetic operations\n",
    "    - On 1-D Arrays\n",
    "    - On 2-D Arrays\n",
    "3. More Mathematical Operations\n",
    "    - On 1-D Arrays\n",
    "    - On 2-D Arrays\n",
    "4. Aggregate Functions\n",
    "    - On 1-D Arrays\n",
    "    - On 2-D Arrays\n",
    "5. Comparing NumPy Arrays\n",
    "    - On 1-D Arrays\n",
    "    - On 2-D Arrays\n",
    "6. Bonus: Searching 1-D and 2-D NumPy Arrays using `numpy.where()`"
   ]
  },
  {
   "cell_type": "code",
   "execution_count": 1,
   "id": "ad592c7e",
   "metadata": {},
   "outputs": [],
   "source": [
    "# To install this library in Jupyter notebook\n",
    "#import sys\n",
    "#!{sys.executable} -m pip install numpy"
   ]
  },
  {
   "cell_type": "code",
   "execution_count": 2,
   "id": "bca9f700",
   "metadata": {},
   "outputs": [
    {
     "data": {
      "text/plain": [
       "('1.26.4', ['C:\\\\Users\\\\attari\\\\anaconda3\\\\Lib\\\\site-packages\\\\numpy'])"
      ]
     },
     "execution_count": 2,
     "metadata": {},
     "output_type": "execute_result"
    }
   ],
   "source": [
    "import numpy as np\n",
    "np.__version__ , np.__path__"
   ]
  },
  {
   "cell_type": "markdown",
   "id": "0906e715",
   "metadata": {},
   "source": [
    "## 1. Scalar Math"
   ]
  },
  {
   "cell_type": "markdown",
   "id": "26f8690c",
   "metadata": {},
   "source": [
    "### a. Scalar Math on 1-D Arrays"
   ]
  },
  {
   "cell_type": "code",
   "execution_count": 3,
   "id": "08b13d56",
   "metadata": {},
   "outputs": [
    {
     "name": "stdout",
     "output_type": "stream",
     "text": [
      "arr:  [8 7 8 3]\n",
      "np.add(arr,2):  [10  9 10  5]\n",
      "np.subtract(arr,2):  [6 5 6 1]\n",
      "np.multiply(arr,2):  [16 14 16  6]\n",
      "np.divide(arr,2):  [4.  3.5 4.  1.5]\n",
      "np.mod(arr,2):  [0 1 0 1]\n",
      "2572519739280 2572519739472\n"
     ]
    }
   ],
   "source": [
    "import numpy as np\n",
    "# Create a 1-D array having 4 random integers from 1 to 9\n",
    "arr = np.random.randint(1,10, size=4)\n",
    "print(\"arr: \", arr)\n",
    "\n",
    "# After the operation a new `ndarray` is returned\n",
    "print(\"np.add(arr,2): \",      arr + 2)            # np.add(arr, 2))\n",
    "print(\"np.subtract(arr,2): \", arr - 2)            # np.subtract(arr, 2))\n",
    "print(\"np.multiply(arr,2): \", arr * 2)            # np.multiply(arr, 2))\n",
    "print(\"np.divide(arr,2): \",   arr / 2)            # np.divide(arr, 2))\n",
    "print(\"np.mod(arr,2): \",      arr % 2)            # np.mod(arr, 2))\n",
    "\n",
    "arr3 = arr + 9\n",
    "print(id(arr), id(arr3))"
   ]
  },
  {
   "cell_type": "markdown",
   "id": "ef0533ab",
   "metadata": {},
   "source": [
    "### b. Scalar Math on 2-D Arrays"
   ]
  },
  {
   "cell_type": "code",
   "execution_count": 4,
   "id": "a7206060",
   "metadata": {},
   "outputs": [
    {
     "name": "stdout",
     "output_type": "stream",
     "text": [
      "Original matrix:\n",
      " [[9 4]\n",
      " [6 4]]\n",
      "np.add(matrix,2): \n",
      " [[11  6]\n",
      " [ 8  6]]\n",
      "np.subtract(matrix,2): \n",
      " [[7 2]\n",
      " [4 2]]\n",
      "np.multiply(matrix,2): \n",
      " [[18  8]\n",
      " [12  8]]\n",
      "np.divide(matrix,2): \n",
      " [[4.5 2. ]\n",
      " [3.  2. ]]\n",
      "np.mod(matrix,2): \n",
      " [[1 0]\n",
      " [0 0]]\n"
     ]
    }
   ],
   "source": [
    "import numpy as np\n",
    "# Create a 2x2 matrix with random integers  between 1 to 9\n",
    "matrix = np.random.randint(1,10, size=(2, 2))\n",
    "print(\"Original matrix:\\n\", matrix)\n",
    "\n",
    "# After the operation a new `ndarray` is returned\n",
    "print(\"np.add(matrix,2): \\n\",      matrix + 2)            # np.add(matrix, 2))\n",
    "print(\"np.subtract(matrix,2): \\n\", matrix - 2)            # np.subtract(matrix, 2))\n",
    "print(\"np.multiply(matrix,2): \\n\", matrix * 2)            # np.multiply(matrix, 2))\n",
    "print(\"np.divide(matrix,2): \\n\",   matrix / 2)            # np.divide(matrix, 2))\n",
    "print(\"np.mod(matrix,2): \\n\",      matrix % 2)            # np.mod(matrix, 2))"
   ]
  },
  {
   "cell_type": "markdown",
   "id": "f7900157",
   "metadata": {},
   "source": [
    "## 2. Arithmetic Operations"
   ]
  },
  {
   "cell_type": "markdown",
   "id": "28f196d5",
   "metadata": {},
   "source": [
    "### a. Arithmetic Operations on 1-D Arrays"
   ]
  },
  {
   "cell_type": "code",
   "execution_count": 5,
   "id": "30d3f30f",
   "metadata": {},
   "outputs": [
    {
     "name": "stdout",
     "output_type": "stream",
     "text": [
      "arr1:  [7 1 7 2]\n",
      "arr2:  [5 7 9 1]\n",
      "np.add(arr1, arr2) =  [12  8 16  3]\n",
      "np.subtract(arr1, arr2) =  [ 2 -6 -2  1]\n",
      "np.multiply(arr1, arr2) =  [35  7 63  2]\n",
      "np.divide(arr1, arr2) =  [1.4        0.14285714 0.77777778 2.        ]\n",
      "np.mod(arr1, arr2) =  [2 1 7 0]\n"
     ]
    }
   ],
   "source": [
    "import numpy as np\n",
    "# Create two 1-D arrays each having 4 random integers from 1 to 9\n",
    "arr1 = np.random.randint(1,10, size=4)\n",
    "arr2 = np.random.randint(1,10, size=4)\n",
    "print(\"arr1: \", arr1)\n",
    "print(\"arr2: \", arr2)\n",
    "\n",
    "# After the operation a new `ndarray` is returned\n",
    "print(\"np.add(arr1, arr2) = \",      arr1 + arr2)     # np.add(arr1, arr2)\n",
    "print(\"np.subtract(arr1, arr2) = \", arr1 - arr2)     # np.subtract(arr1, arr2)\n",
    "print(\"np.multiply(arr1, arr2) = \", arr1 * arr2)     # np.multiply(arr1, arr2)\n",
    "print(\"np.divide(arr1, arr2) = \",   arr1  / arr2)    # np.divide(arr1, arr2)\n",
    "print(\"np.mod(arr1, arr2) = \",      arr1  % arr2)    # np.mod(arr1, arr2) # np.remainder(arr1, arr2)"
   ]
  },
  {
   "cell_type": "markdown",
   "id": "f39da597",
   "metadata": {},
   "source": [
    "### b. Arithmetic Operations on 2-D Arrays"
   ]
  },
  {
   "cell_type": "code",
   "execution_count": 6,
   "id": "3cd42b3c",
   "metadata": {},
   "outputs": [
    {
     "name": "stdout",
     "output_type": "stream",
     "text": [
      "matrix1: \n",
      " [[7 9]\n",
      " [3 3]]\n",
      "matrix2: \n",
      " [[4 9]\n",
      " [1 7]]\n",
      "np.add(matrix1 , matrix2) = \n",
      " [[11 18]\n",
      " [ 4 10]]\n",
      "np.subtract(matrix1 , matrix2) = \n",
      " [[ 3  0]\n",
      " [ 2 -4]]\n",
      "np.multiply(matrix1 , matrix2) = \n",
      " [[28 81]\n",
      " [ 3 21]]\n",
      "np.divide(matrix1 , matrix2) = \n",
      " [[1.75       1.        ]\n",
      " [3.         0.42857143]]\n",
      "np.mod(matrix1 , matrix2) = \n",
      " [[3 0]\n",
      " [0 3]]\n"
     ]
    }
   ],
   "source": [
    "import numpy as np\n",
    "# Create a 2x2 matrix with random integers  between 1 to 9\n",
    "matrix1 = np.random.randint(1,10, size=(2, 2))\n",
    "matrix2 = np.random.randint(1, 10, size=(2, 2))\n",
    "print(\"matrix1: \\n\", matrix1)\n",
    "print(\"matrix2: \\n\", matrix2)\n",
    "\n",
    "# After the operation a new `ndarray` is returned\n",
    "print(\"np.add(matrix1 , matrix2) = \\n\",      matrix1 + matrix2) # np.add(matrix1 , matrix2)\n",
    "print(\"np.subtract(matrix1 , matrix2) = \\n\", matrix1 - matrix2) # np.subtract(matrix1 , matrix2)\n",
    "print(\"np.multiply(matrix1 , matrix2) = \\n\", matrix1 * matrix2) # np.multiply(matrix1 , matrix2)\n",
    "print(\"np.divide(matrix1 , matrix2) = \\n\",   matrix1 / matrix2) # np.divide(matrix1 , matrix2)\n",
    "print(\"np.mod(matrix1 , matrix2) = \\n\",      matrix1 % matrix2) # np.remainder(matrix1 , matrix2)"
   ]
  },
  {
   "cell_type": "markdown",
   "id": "6af771f9",
   "metadata": {},
   "source": [
    "## 3. More Mathematical Operations"
   ]
  },
  {
   "cell_type": "markdown",
   "id": "a625e92a",
   "metadata": {},
   "source": [
    "### a. Mathematical Operations on 1-D Array"
   ]
  },
  {
   "cell_type": "code",
   "execution_count": 7,
   "id": "cf755e36",
   "metadata": {},
   "outputs": [
    {
     "name": "stdout",
     "output_type": "stream",
     "text": [
      "Original ndarray:  [6.84591407 6.86774133 3.46915784 3.04380118 1.0144755 ]\n",
      "np.abs(arr) =  [6.84591407 6.86774133 3.46915784 3.04380118 1.0144755 ]\n",
      "np.square(arr) =  [46.86653947 47.16587102 12.03505612  9.2647256   1.02916053]\n",
      "np.sqrt(arr) =  [2.61646977 2.62063758 1.86256754 1.7446493  1.00721174]\n",
      "np.cbrt(arr) =  [1.89879093 1.9008068  1.51382156 1.44923482 1.00480207]\n",
      "np.log(arr) =  [1.92365199 1.92683528 1.24391187 1.11310712 0.01437173]\n",
      "np.log2(arr) =  [2.77524318 2.7798357  1.79458548 1.60587412 0.02073402]\n",
      "np.log10(arr) =  [0.83543144 0.83681393 0.54022406 0.48341628 0.00624156]\n",
      "np.isnan(arr) =  [False False False False False]\n",
      "np.ceil(arr) =  [7. 7. 4. 4. 2.]\n",
      "np.floor(arr) =  [6. 6. 3. 3. 1.]\n",
      "np.cumsum(arr) =  [ 6.84591407 13.7136554  17.18281324 20.22661442 21.24108992]\n"
     ]
    }
   ],
   "source": [
    "# Creating 1-D array of 5 elements of random floats between 1 and 10\n",
    "arr = np.random.rand(5)*10\n",
    "print(\"Original ndarray: \", arr)\n",
    "\n",
    "\n",
    "# After the operation a new `ndarray` is returned, which is a copy of the original array with the operation performed\n",
    "print(\"np.abs(arr) = \", np.abs(arr))\n",
    "print(\"np.square(arr) = \", np.square(arr))\n",
    "print(\"np.sqrt(arr) = \", np.sqrt(arr))\n",
    "print(\"np.cbrt(arr) = \", np.cbrt(arr))\n",
    "print(\"np.log(arr) = \", np.log(arr))\n",
    "print(\"np.log2(arr) = \", np.log2(arr))\n",
    "print(\"np.log10(arr) = \", np.log10(arr))\n",
    "print(\"np.isnan(arr) = \", np.isnan(arr))\n",
    "print(\"np.ceil(arr) = \", np.ceil(arr))\n",
    "print(\"np.floor(arr) = \", np.floor(arr))\n",
    "print(\"np.cumsum(arr) = \", np.cumsum(arr))"
   ]
  },
  {
   "cell_type": "markdown",
   "id": "51e8cef6",
   "metadata": {},
   "source": [
    "### b. Mathematical Operations on 2-D Array"
   ]
  },
  {
   "cell_type": "code",
   "execution_count": 8,
   "id": "71a1ae23",
   "metadata": {},
   "outputs": [
    {
     "name": "stdout",
     "output_type": "stream",
     "text": [
      "matrix: \n",
      " [[4 7]\n",
      " [1 4]]\n",
      "np.square(matrix) = \n",
      " [[16 49]\n",
      " [ 1 16]]\n",
      "np.sqrt(matrix) = \n",
      " [[2.         2.64575131]\n",
      " [1.         2.        ]]\n",
      "np.log2(matrix) = \n",
      " [[2.         2.80735492]\n",
      " [0.         2.        ]]\n",
      "np.isnan(matrix) = \n",
      " [[False False]\n",
      " [False False]]\n",
      "np.ceil(matrix) = \n",
      " [[4. 7.]\n",
      " [1. 4.]]\n",
      "np.floor(matrix) = \n",
      " [[4. 7.]\n",
      " [1. 4.]]\n",
      "np.cumsum(matrix) = \n",
      " [ 4 11 12 16]\n"
     ]
    }
   ],
   "source": [
    "import numpy as np\n",
    "# Create a 2x2 matrix with random integers  between 1 to 9\n",
    "matrix = np.random.randint(1,10, size=(2, 2))\n",
    "print(\"matrix: \\n\", matrix)\n",
    "\n",
    "# After the operation a new `ndarray` is returned, which is a copy of the original array with the operation performed\n",
    "print(\"np.square(matrix) = \\n\", np.square(matrix))\n",
    "print(\"np.sqrt(matrix) = \\n\", np.sqrt(matrix))\n",
    "print(\"np.log2(matrix) = \\n\", np.log2(matrix))\n",
    "print(\"np.isnan(matrix) = \\n\", np.isnan(matrix))\n",
    "print(\"np.ceil(matrix) = \\n\", np.ceil(matrix))\n",
    "print(\"np.floor(matrix) = \\n\", np.floor(matrix))\n",
    "print(\"np.cumsum(matrix) = \\n\", np.cumsum(matrix))"
   ]
  },
  {
   "cell_type": "markdown",
   "id": "c5d411d3",
   "metadata": {},
   "source": [
    "## 4. Aggregate Functions"
   ]
  },
  {
   "cell_type": "markdown",
   "id": "dde44c0c",
   "metadata": {},
   "source": [
    "### a. Aggregate Functions on 1-D Arrays"
   ]
  },
  {
   "cell_type": "code",
   "execution_count": 9,
   "id": "1d8605be",
   "metadata": {},
   "outputs": [
    {
     "name": "stdout",
     "output_type": "stream",
     "text": [
      "arr:  [7 7 7 3 2]\n",
      "np.min(arr) =  2\n",
      "np.max(arr) =  7\n",
      "np.sum(arr) =  26\n",
      "np.prod(arr) =  2058\n"
     ]
    }
   ],
   "source": [
    "# Create a 1-D array having 5 random integers from 1 to 9\n",
    "arr = np.random.randint(1, 10, size=5)\n",
    "print(\"arr: \", arr)\n",
    "\n",
    "# After the operation a new `ndarray` is returned, which is a copy of the original array with the operation performed\n",
    "print(\"np.min(arr) = \",     np.min(arr))\n",
    "print(\"np.max(arr) = \",     np.max(arr))\n",
    "print(\"np.sum(arr) = \",     np.sum(arr))\n",
    "print(\"np.prod(arr) = \", np.prod(arr))"
   ]
  },
  {
   "cell_type": "code",
   "execution_count": 10,
   "id": "351b8a6a",
   "metadata": {},
   "outputs": [
    {
     "name": "stdout",
     "output_type": "stream",
     "text": [
      "arr:  [4 6 8 3 1]\n",
      "np.mean(arr) =  4.4\n",
      "np.average(arr) =  4.4\n",
      "\n",
      "arr1:  [1 2 3 4]\n",
      "wts:   [4 3 2 1]\n",
      "np.average(arr1, weights=wts) =  2.0\n"
     ]
    }
   ],
   "source": [
    "# Create a 1-D array having 5 random integers from 1 to 9\n",
    "arr = np.random.randint(1, 10, size=5)\n",
    "print(\"arr: \", arr)\n",
    "\n",
    "#Arithmetic mean is the sum of elements along an axis divided by the number of elements. \n",
    "print(\"np.mean(arr) = \",    np.mean(arr))\n",
    "\n",
    "# The np.average() function computes the weighted average, by multiplying of each array element by its weight\n",
    "# The np.average() is same as np.mean(), when weight is not specified\n",
    "print(\"np.average(arr) = \", np.average(arr))\n",
    "\n",
    "# Considering an array [1,2,3,4] and corresponding weights [4,3,2,1], the weighted average is calculated by \n",
    "# adding the product of the corresponding elements and dividing the sum by the sum of weights.\n",
    "#             Weighted average = (1*4+2*3+3*2+4*1)/(4+3+2+1)\n",
    "\n",
    "arr1 = np.array([1,2,3,4])\n",
    "wts = np.array([4,3,2,1])\n",
    "print(\"\\narr1: \", arr1)\n",
    "print(\"wts:  \", wts)\n",
    "print(\"np.average(arr1, weights=wts) = \", np.average(arr1, weights= wts))\n",
    "\n"
   ]
  },
  {
   "cell_type": "code",
   "execution_count": 11,
   "id": "65a99fd8",
   "metadata": {},
   "outputs": [
    {
     "name": "stdout",
     "output_type": "stream",
     "text": [
      "arr:  [17 97 35 73 67 96 70 24 92 79]\n",
      "np.median(arr) =  71.5\n",
      "np.percentile(arr,50) =  71.5\n",
      "np.percentile(arr,0) =  17.0\n",
      "np.percentile(arr,100) =  97.0\n",
      "np.var(arr) =  788.8\n",
      "np.std(arr) =  28.085583490467133\n"
     ]
    }
   ],
   "source": [
    "# Create a 1-D array having 10 random integers from 1 to 99\n",
    "arr = np.random.randint(1, 100, size=10)\n",
    "print(\"arr: \", arr)\n",
    "\n",
    "# Median is the value separating the higher half of a data sample from the lower half.\n",
    "print(\"np.median(arr) = \",  np.median(arr))\n",
    "\n",
    "# Percentile is the value below which a given percentage of observations in a group of observations fall.\n",
    "# 50th percentile is the score at or below which 50% of the scores in the distribution may be found.\n",
    "print(\"np.percentile(arr,50) = \",     np.percentile(arr,50))\n",
    "print(\"np.percentile(arr,0) = \",     np.percentile(arr,0))\n",
    "print(\"np.percentile(arr,100) = \",     np.percentile(arr,100))\n",
    "\n",
    "# The variance measures the average degree to which each point differs from the mean\n",
    "# Variance is calculated as the average of squared deviations from mean, i.e., mean((x - x.mean())**2).\n",
    "print(\"np.var(arr) = \",    np.var(arr))\n",
    "\n",
    "\n",
    "# Standard deviation checks how spread out a group of numbers is from the mean\n",
    "# It is the square root of variance: sqrt(mean((x - x.mean())**2))\n",
    "print(\"np.std(arr) = \",    np.std(arr))\n"
   ]
  },
  {
   "cell_type": "markdown",
   "id": "c12623e8",
   "metadata": {},
   "source": [
    "### b. Aggregate Functions on 2-D Arrays"
   ]
  },
  {
   "cell_type": "code",
   "execution_count": 12,
   "id": "4c71de42",
   "metadata": {},
   "outputs": [
    {
     "name": "stdout",
     "output_type": "stream",
     "text": [
      "matrix: \n",
      " [[1 3 3]\n",
      " [2 7 6]\n",
      " [2 9 8]]\n",
      "np.sum(matrix, axis=0) =  [ 5 19 17]\n",
      "np.sum(matrix, axis=1) =  [ 7 15 19]\n"
     ]
    }
   ],
   "source": [
    "import numpy as np\n",
    "# Create a 3x3 (2-D array) initialized with random integers from 1 to 9\n",
    "matrix = np.random.randint(1,10, size=(3, 3))\n",
    "print(\"matrix: \\n\", matrix)\n",
    "\n",
    "print(\"np.sum(matrix, axis=0) = \",     np.sum(matrix, axis=0))\n",
    "print(\"np.sum(matrix, axis=1) = \",     np.sum(matrix, axis=1))\n"
   ]
  },
  {
   "cell_type": "code",
   "execution_count": 13,
   "id": "cf45b9d3",
   "metadata": {},
   "outputs": [
    {
     "name": "stdout",
     "output_type": "stream",
     "text": [
      "matrix: \n",
      " [[4 7 1]\n",
      " [2 9 4]\n",
      " [8 1 6]]\n",
      "np.min(matrix, axis=0) =  [2 1 1]\n",
      "np.min(matrix, axis=1) =  [1 2 1]\n"
     ]
    }
   ],
   "source": [
    "# Create a 3x3 (2-D array) initialized with random integers from 1 to 9\n",
    "matrix = np.random.randint(1,10, size=(3, 3))\n",
    "print(\"matrix: \\n\", matrix)\n",
    "\n",
    "print(\"np.min(matrix, axis=0) = \",     np.min(matrix, axis=0))\n",
    "print(\"np.min(matrix, axis=1) = \",     np.min(matrix, axis=1))"
   ]
  },
  {
   "cell_type": "code",
   "execution_count": 14,
   "id": "ded4bbd3",
   "metadata": {},
   "outputs": [
    {
     "name": "stdout",
     "output_type": "stream",
     "text": [
      "matrix: \n",
      " [[1 5 2]\n",
      " [6 5 9]\n",
      " [8 1 3]]\n",
      "np.mean(matrix, axis=0) =  [5.         3.66666667 4.66666667]\n",
      "np.mean(matrix, axis=1) =  [2.66666667 6.66666667 4.        ]\n"
     ]
    }
   ],
   "source": [
    "# Create a 3x3 (2-D array) initialized with random integers from 1 to 9\n",
    "matrix = np.random.randint(1,10, size=(3, 3))\n",
    "print(\"matrix: \\n\", matrix)\n",
    "\n",
    "\n",
    "print(\"np.mean(matrix, axis=0) = \",     np.mean(matrix, axis=0))\n",
    "print(\"np.mean(matrix, axis=1) = \",     np.mean(matrix, axis=1))"
   ]
  },
  {
   "cell_type": "code",
   "execution_count": 15,
   "id": "1ed39e0c",
   "metadata": {},
   "outputs": [
    {
     "name": "stdout",
     "output_type": "stream",
     "text": [
      "matrix: \n",
      " [[5 4 7]\n",
      " [4 5 9]\n",
      " [4 6 8]]\n",
      "np.median(matrix, axis=0) =  [4. 5. 8.]\n",
      "np.median(matrix, axis=1) =  [5. 5. 6.]\n"
     ]
    }
   ],
   "source": [
    "# Create a 3x3 (2-D array) initialized with random integers from 1 to 9\n",
    "matrix = np.random.randint(1,10, size=(3, 3))\n",
    "print(\"matrix: \\n\", matrix)\n",
    "\n",
    "# Median is the value separating the higher half of a data sample from the lower half.\n",
    "print(\"np.median(matrix, axis=0) = \",     np.median(matrix, axis=0))\n",
    "print(\"np.median(matrix, axis=1) = \",     np.median(matrix, axis=1))"
   ]
  },
  {
   "cell_type": "markdown",
   "id": "8b4429f9",
   "metadata": {},
   "source": [
    "Please do practice calculating the percentile, variance and standard deviation along different axis of a 2-D array"
   ]
  },
  {
   "cell_type": "markdown",
   "id": "32fde252",
   "metadata": {},
   "source": [
    "## 5. Comparing NumPy Arrays"
   ]
  },
  {
   "cell_type": "markdown",
   "id": "624dfa93",
   "metadata": {},
   "source": [
    "### a. Comparing NumPy 1-D Arrays\n",
    "- Returns a Boolean numpy array containing True/False after doing element wise comparison"
   ]
  },
  {
   "cell_type": "code",
   "execution_count": 16,
   "id": "6fc80b92",
   "metadata": {},
   "outputs": [
    {
     "name": "stdout",
     "output_type": "stream",
     "text": [
      "arr1:  [9 1 6 5]\n",
      "arr2:  [8 8 6 5]\n",
      "np.equal(arr1, arr2) =  [False False  True  True]\n",
      "np.not_equal(arr1, arr2) =  [ True  True False False]\n",
      "np.greater(arr1, arr2) =  [ True False False False]\n",
      "np.greater_equal(arr1, arr2) =  [ True False  True  True]\n",
      "np.less(arr1, arr2) =  [False  True False False]\n",
      "np.less_equal(arr1, arr2) =  [False  True  True  True]\n"
     ]
    }
   ],
   "source": [
    "import numpy as np\n",
    "# Create two 1-D arrays each having 4 random integers from 1 to 9\n",
    "arr1 = np.random.randint(1,10, size=4)\n",
    "arr2 = np.random.randint(1,10, size=4)\n",
    "print(\"arr1: \", arr1)\n",
    "print(\"arr2: \", arr2)\n",
    "print(\"np.equal(arr1, arr2) = \",      arr1 == arr2)      # np.equal(arr1, arr2)\n",
    "print(\"np.not_equal(arr1, arr2) = \",  arr1 != arr2)      # np.not_equal(arr1, arr2)\n",
    "\n",
    "print(\"np.greater(arr1, arr2) = \",      arr1 > arr2)     # np.greater(arr1, arr2)\n",
    "print(\"np.greater_equal(arr1, arr2) = \",  arr1 >= arr2)  # np.greater_equal(arr1, arr2)\n",
    "\n",
    "print(\"np.less(arr1, arr2) = \",      arr1 < arr2)        # np.less(arr1, arr2)\n",
    "print(\"np.less_equal(arr1, arr2) = \",  arr1 <= arr2)     # np.less_equal(arr1, arr2)"
   ]
  },
  {
   "cell_type": "markdown",
   "id": "d03fa4fb",
   "metadata": {},
   "source": [
    "### b. Comparing NumPy 2-D Arrays"
   ]
  },
  {
   "cell_type": "code",
   "execution_count": 17,
   "id": "b65058ea",
   "metadata": {},
   "outputs": [
    {
     "name": "stdout",
     "output_type": "stream",
     "text": [
      "matrix1: \n",
      " [[4 4]\n",
      " [9 8]]\n",
      "matrix2: \n",
      " [[5 1]\n",
      " [9 6]]\n",
      "np.equal(matrix1, matrix2) = \n",
      " [[False False]\n",
      " [ True False]]\n",
      "np.not_equal(matrix1, matrix2) = \n",
      " [[ True  True]\n",
      " [False  True]]\n",
      "np.greater(matrix1, matrix2) = \n",
      " [[False  True]\n",
      " [False  True]]\n",
      "np.greater_equal(matrix1, matrix2) = \n",
      " [[False  True]\n",
      " [ True  True]]\n",
      "np.less(matrix1, matrix2) = \n",
      " [[ True False]\n",
      " [False False]]\n",
      "np.less_equal(matrix1, matrix2) = \n",
      " [[ True False]\n",
      " [ True False]]\n"
     ]
    }
   ],
   "source": [
    "import numpy as np\n",
    "# Create a 2x2 matrix with random integers  between 1 to 9\n",
    "matrix1 = np.random.randint(1,10, size=(2, 2))\n",
    "matrix2 = np.random.randint(1, 10, size=(2, 2))\n",
    "print(\"matrix1: \\n\", matrix1)\n",
    "print(\"matrix2: \\n\", matrix2)\n",
    "\n",
    "\n",
    "\n",
    "print(\"np.equal(matrix1, matrix2) = \\n\",        matrix1 == matrix2)     \n",
    "print(\"np.not_equal(matrix1, matrix2) = \\n\",    matrix1 != matrix2)     \n",
    "\n",
    "print(\"np.greater(matrix1, matrix2) = \\n\",      matrix1 > matrix2)    \n",
    "print(\"np.greater_equal(matrix1, matrix2) = \\n\",matrix1 >= matrix2) \n",
    "\n",
    "print(\"np.less(matrix1, matrix2) = \\n\",         matrix1 < matrix2)       \n",
    "print(\"np.less_equal(matrix1, matrix2) = \\n\",   matrix1 <= matrix2)     "
   ]
  },
  {
   "cell_type": "markdown",
   "id": "4ed923c8",
   "metadata": {},
   "source": [
    "## 6. Searching NumPy Arrays using `numpy.where()`"
   ]
  },
  {
   "cell_type": "markdown",
   "id": "7a15d751",
   "metadata": {},
   "source": [
    "### a. Searching NumPy 1-D Arrays"
   ]
  },
  {
   "cell_type": "markdown",
   "id": "bfcf9f08",
   "metadata": {},
   "source": [
    "- The `numpy.where()` method is used to search NumPy arrays for the index values of any element which matches the condition passed as a parameter to the function.\n",
    "```\n",
    "numpy.where(condition, [x, y])\n",
    "```\n",
    "    - condition : When True, yield x, otherwise yield y. If x and y are not given just return the value of the array\n",
    "    - Returns: ndarray or tuple of ndarrays. If both x and y are specified, the output array contains elements of x where condition is True, and elements from y elsewhere."
   ]
  },
  {
   "cell_type": "code",
   "execution_count": 18,
   "id": "0a209cc5",
   "metadata": {},
   "outputs": [
    {
     "name": "stdout",
     "output_type": "stream",
     "text": [
      "(array([3, 5, 6], dtype=int64),)\n"
     ]
    }
   ],
   "source": [
    "import numpy as np\n",
    "arr = np.array([1, 2, 3, 4, 5, 4, 4, 9, 2, 3, 8])\n",
    "t1 = np.where(arr == 4)\n",
    "print(t1)"
   ]
  },
  {
   "cell_type": "markdown",
   "id": "24865ae5",
   "metadata": {},
   "source": [
    "Note: The result is a tuple of 1-D arrays having a single tuple containing the index"
   ]
  },
  {
   "cell_type": "code",
   "execution_count": 19,
   "id": "e1db54c3",
   "metadata": {},
   "outputs": [
    {
     "name": "stdout",
     "output_type": "stream",
     "text": [
      "(array([1, 6], dtype=int64),)\n"
     ]
    }
   ],
   "source": [
    "import numpy as np\n",
    "arr = np.array([1, 0, 3, 9, 5, 2, 0, 8])\n",
    "t1 = np.where(arr == 0)\n",
    "print(t1)"
   ]
  },
  {
   "cell_type": "code",
   "execution_count": 20,
   "id": "7c6fe56b",
   "metadata": {},
   "outputs": [
    {
     "name": "stdout",
     "output_type": "stream",
     "text": [
      "(array([1, 3, 5, 7], dtype=int64),)\n"
     ]
    }
   ],
   "source": [
    "import numpy as np\n",
    "arr = np.array([1, 2, 3, 4, 5, 6, 7, 8])\n",
    "t1 = np.where(arr%2 == 0)\n",
    "print(t1)"
   ]
  },
  {
   "cell_type": "code",
   "execution_count": 21,
   "id": "4f82105f",
   "metadata": {},
   "outputs": [
    {
     "name": "stdout",
     "output_type": "stream",
     "text": [
      "[False  True False  True False  True False  True]\n"
     ]
    }
   ],
   "source": [
    "import numpy as np\n",
    "arr = np.array([1, 2, 3, 4, 5, 6, 7, 8])\n",
    "t1 = np.where(arr%2 == 0, True, False)\n",
    "print(t1)"
   ]
  },
  {
   "cell_type": "markdown",
   "id": "f7f2c65c",
   "metadata": {},
   "source": [
    "Note: The result is a simple 1-D array, when you use the x and y arguments to `np.where()`"
   ]
  },
  {
   "cell_type": "markdown",
   "id": "57f89640",
   "metadata": {},
   "source": [
    "### b. Searching NumPy 2-D Arrays"
   ]
  },
  {
   "cell_type": "markdown",
   "id": "b63342d5",
   "metadata": {},
   "source": [
    "- The `numpy.where()` method is used to search NumPy arrays for the index values of any element which matches the condition passed as a parameter to the function.\n",
    "```\n",
    "numpy.where(condition, [x, y])\n",
    "```\n",
    "    - condition : When True, yield x, otherwise yield y. If x and y are not given just return the value of the array\n",
    "    - Returns: ndarray or tuple of ndarrays. If both x and y are specified, the output array contains elements of x where condition is True, and elements from y elsewhere."
   ]
  },
  {
   "cell_type": "code",
   "execution_count": 22,
   "id": "fde6ed1e",
   "metadata": {
    "scrolled": true
   },
   "outputs": [
    {
     "name": "stdout",
     "output_type": "stream",
     "text": [
      "matrix: \n",
      " [[1 2 3]\n",
      " [4 5 4]\n",
      " [4 9 2]\n",
      " [3 8 6]]\n",
      "(array([1, 1, 2], dtype=int64), array([0, 2, 0], dtype=int64))\n"
     ]
    }
   ],
   "source": [
    "import numpy as np\n",
    "matrix = np.array([[1, 2, 3], [4, 5, 4], [4, 9, 2], [3, 8, 6]])\n",
    "print(\"matrix: \\n\", matrix)\n",
    "t1 = np.where(matrix == 4)\n",
    "print(t1)"
   ]
  },
  {
   "cell_type": "markdown",
   "id": "1ae934c6",
   "metadata": {},
   "source": [
    "**Note:** The result is a tuple of 1-D arrays having two tuples. The condition is true for three elements at indices `(1,0)`, `(1,2)` and `(2,0)`"
   ]
  },
  {
   "cell_type": "code",
   "execution_count": 23,
   "id": "24c55c5c",
   "metadata": {},
   "outputs": [
    {
     "name": "stdout",
     "output_type": "stream",
     "text": [
      "matrix: \n",
      " [[1 2 0]\n",
      " [4 5 0]\n",
      " [4 9 2]\n",
      " [3 0 6]]\n",
      "(array([0, 1, 3], dtype=int64), array([2, 2, 1], dtype=int64))\n"
     ]
    }
   ],
   "source": [
    "import numpy as np\n",
    "matrix = np.array([[1, 2, 0], [4, 5, 0], [4, 9, 2], [3, 0, 6]])\n",
    "print(\"matrix: \\n\", matrix)\n",
    "t1 = np.where(matrix == 0)\n",
    "print(t1)"
   ]
  },
  {
   "cell_type": "markdown",
   "id": "58c391db",
   "metadata": {},
   "source": [
    "**Note:** The result is a tuple of 1-D arrays having two tuples. The condition is true for three elements at indices:\n",
    "`(0,2)`, `(1,2)` and `(3,1)`"
   ]
  },
  {
   "cell_type": "code",
   "execution_count": 24,
   "id": "e901346d",
   "metadata": {},
   "outputs": [
    {
     "name": "stdout",
     "output_type": "stream",
     "text": [
      "matrix: \n",
      " [[1 2 3]\n",
      " [5 7 3]\n",
      " [4 9 1]\n",
      " [3 5 3]]\n",
      "(array([0, 2], dtype=int64), array([1, 0], dtype=int64))\n"
     ]
    }
   ],
   "source": [
    "import numpy as np\n",
    "matrix = np.array([[1, 2, 3], [5, 7, 3], [4, 9, 1], [3, 5, 3]])\n",
    "print(\"matrix: \\n\", matrix)\n",
    "t1 = np.where(matrix%2 == 0)\n",
    "print(t1)"
   ]
  },
  {
   "cell_type": "markdown",
   "id": "4358b8be",
   "metadata": {},
   "source": [
    "**Note:** The result is a tuple of 1-D arrays having two tuples. The condition is true for two elements at indices:\n",
    "`(0,2)` and `(1,0)`"
   ]
  },
  {
   "cell_type": "code",
   "execution_count": 25,
   "id": "86e4c330",
   "metadata": {},
   "outputs": [
    {
     "name": "stdout",
     "output_type": "stream",
     "text": [
      "matrix: \n",
      " [[1 2 3]\n",
      " [5 7 3]\n",
      " [4 9 1]\n",
      " [3 5 3]]\n",
      "[[False  True False]\n",
      " [False False False]\n",
      " [ True False False]\n",
      " [False False False]]\n"
     ]
    }
   ],
   "source": [
    "import numpy as np\n",
    "matrix = np.array([[1, 2, 3], [5, 7, 3], [4, 9, 1], [3, 5, 3]])\n",
    "print(\"matrix: \\n\", matrix)\n",
    "t1 = np.where(matrix%2 == 0, True, False)\n",
    "print(t1)"
   ]
  },
  {
   "cell_type": "markdown",
   "id": "b9dad9b8",
   "metadata": {},
   "source": [
    "**Note:** The result is a simple 2-D array, when you use the `x` and `y` arguments to `np.where()`"
   ]
  },
  {
   "cell_type": "code",
   "execution_count": 26,
   "id": "3ac7c142",
   "metadata": {},
   "outputs": [
    {
     "name": "stdout",
     "output_type": "stream",
     "text": [
      "(array([0, 1, 1, 2, 3], dtype=int64), array([3, 0, 2, 1, 0], dtype=int64))\n"
     ]
    }
   ],
   "source": [
    "import numpy as np\n",
    "arr = np.array([[1, 2, 3, 4], [4, 5, 4, 2], [8, 4, 9, 2], [4, 3, 8, 6]])\n",
    "t1 = np.where(arr == 4)\n",
    "print(t1)"
   ]
  },
  {
   "cell_type": "markdown",
   "id": "2650e00e-df7c-4908-88f0-895dc7df6b1b",
   "metadata": {},
   "source": [
    "# Part -II (Array Indexing, Subsetting and Slicing)"
   ]
  },
  {
   "cell_type": "markdown",
   "id": "ca3bf9ba-0480-4d68-9dd5-a9d7c1f7f2dc",
   "metadata": {},
   "source": [
    "## Learning agenda of this notebook\n",
    "Indexing and Slicing are two of the most common operations that you need to be familiar with when working with Numpy arrays. You will use them when you would like to work with a subset of the array.\n",
    "1. Indexing NumPy Arrays\n",
    "    - Indexing 1-D NumPy Arrays\n",
    "    - Indexing 2-D NumPy Arrays\n",
    "    - Indexing 3-D NumPy Arrays\n",
    "2. Slicing NumPy Arrays\n",
    "    - Slicing 1-D NumPy Arrays\n",
    "    - Slicing 2-D NumPy Arrays\n",
    "3. Boolean Array Indexing\n",
    "    - Boolean Indexing on 1-D NumPy Arrays\n",
    "    - Boolean Indexing on 2-D NumPy Arrays"
   ]
  },
  {
   "cell_type": "markdown",
   "id": "c5d43eab-a481-4383-821b-916289db75db",
   "metadata": {},
   "source": [
    "## 1. Indexing Numpy Arrays\n",
    "- You can access entire dimension or an individual element of NumPy arrays using indexing.\n",
    "- The indexes in NumPy arrays start with 0, meaning that the first element has index 0, and the second has index 1 and so on.\n",
    "- You can use negative indixes as well, which starts. from the last element."
   ]
  },
  {
   "cell_type": "markdown",
   "id": "797dd229-1ff5-44b6-b629-a520c6ac8588",
   "metadata": {},
   "source": [
    "### a. Indexing 1-D NumPy Arrays\n",
    "- Along a single axis, integers are used to select single elements, and so-called slices are used to select ranges and sequences of elements. \n",
    "- Positive integers are used to index elements from the beginning of the array (index starts at 0), and negative integers are used to index elements from the end of the array, where the last element is indexed with –1, the second to last element with –2, and so on."
   ]
  },
  {
   "cell_type": "code",
   "execution_count": 27,
   "id": "0c3b0144-15d8-48fb-b835-5e8963b45f12",
   "metadata": {},
   "outputs": [
    {
     "name": "stdout",
     "output_type": "stream",
     "text": [
      "Original Array \n",
      " [4 5 6 7 0 2 3] \n",
      "Array Shape:  (7,)\n",
      "\n",
      "arr[0] =  4\n",
      "arr[6] =  3\n",
      "arr[-1] =  3\n",
      "arr[-7] =  4\n"
     ]
    },
    {
     "ename": "IndexError",
     "evalue": "index 7 is out of bounds for axis 0 with size 7",
     "output_type": "error",
     "traceback": [
      "\u001b[1;31m---------------------------------------------------------------------------\u001b[0m",
      "\u001b[1;31mIndexError\u001b[0m                                Traceback (most recent call last)",
      "Cell \u001b[1;32mIn[27], line 15\u001b[0m\n\u001b[0;32m     11\u001b[0m \u001b[38;5;28mprint\u001b[39m(\u001b[38;5;124m\"\u001b[39m\u001b[38;5;124marr[-1] = \u001b[39m\u001b[38;5;124m\"\u001b[39m, arr[\u001b[38;5;241m-\u001b[39m\u001b[38;5;241m1\u001b[39m])       \n\u001b[0;32m     12\u001b[0m \u001b[38;5;28mprint\u001b[39m(\u001b[38;5;124m\"\u001b[39m\u001b[38;5;124marr[-7] = \u001b[39m\u001b[38;5;124m\"\u001b[39m, arr[\u001b[38;5;241m-\u001b[39m\u001b[38;5;241m7\u001b[39m])  \n\u001b[1;32m---> 15\u001b[0m \u001b[38;5;28mprint\u001b[39m(\u001b[38;5;124m\"\u001b[39m\u001b[38;5;124marr[7] = \u001b[39m\u001b[38;5;124m\"\u001b[39m, arr[\u001b[38;5;241m7\u001b[39m])       \u001b[38;5;66;03m# IndexError\u001b[39;00m\n\u001b[0;32m     16\u001b[0m \u001b[38;5;28mprint\u001b[39m(\u001b[38;5;124m\"\u001b[39m\u001b[38;5;124marr[-8] = \u001b[39m\u001b[38;5;124m\"\u001b[39m, arr[\u001b[38;5;241m-\u001b[39m\u001b[38;5;241m8\u001b[39m])\n",
      "\u001b[1;31mIndexError\u001b[0m: index 7 is out of bounds for axis 0 with size 7"
     ]
    }
   ],
   "source": [
    "import numpy as np\n",
    "mylist = [4, 5, 6, 7, 0, 2, 3]\n",
    "arr = np.array(mylist, dtype=np.uint8)\n",
    "\n",
    "\n",
    "print(\"Original Array \\n\", arr, \"\\nArray Shape: \",arr.shape)\n",
    "\n",
    "# You can access specific elements using positive as well as negative index\n",
    "print(\"\\narr[0] = \", arr[0])\n",
    "print(\"arr[6] = \", arr[6])\n",
    "print(\"arr[-1] = \", arr[-1])       \n",
    "print(\"arr[-7] = \", arr[-7])  \n",
    "\n",
    "\n",
    "print(\"arr[7] = \", arr[7])       # IndexError\n",
    "print(\"arr[-8] = \", arr[-8])      # IndexError"
   ]
  },
  {
   "cell_type": "markdown",
   "id": "87c31a64-536c-4789-bc6c-0fef9fd3a5e0",
   "metadata": {},
   "source": [
    "### b. Indexing 2-D NumPy Arrays"
   ]
  },
  {
   "cell_type": "code",
   "execution_count": 28,
   "id": "f33343c6-f300-43b8-a868-199040615209",
   "metadata": {},
   "outputs": [
    {
     "name": "stdout",
     "output_type": "stream",
     "text": [
      "Original Array \n",
      " [[1 2 3 4]\n",
      " [5 6 7 8]\n",
      " [3 2 4 1]\n",
      " [7 3 4 9]\n",
      " [4 0 3 1]] \n",
      "Array Shape:  (5, 4)\n",
      "Strides:  (16, 4)\n",
      "arr[3][2] =  4\n",
      "arr[3,2] =  4\n",
      "arr[3] =  [7 3 4 9]\n",
      "arr[-1][-2] =  3\n",
      "arr[-1, -2] =  3\n",
      "arr[-3][-3] =  2\n",
      "arr[-3, -3] =  2\n",
      "arr[-3] =  [3 2 4 1]\n",
      "arr[-1] =  [4 0 3 1]\n"
     ]
    }
   ],
   "source": [
    "import numpy as np\n",
    "mylist = [\n",
    "          [1, 2, 3, 4], \n",
    "          [5, 6, 7, 8], \n",
    "          [3, 2, 4, 1], \n",
    "          [7, 3, 4, 9], \n",
    "          [4, 0, 3, 1]\n",
    "          ]\n",
    "arr = np.array(mylist)\n",
    "print(\"Original Array \\n\", arr, \"\\nArray Shape: \",arr.shape)\n",
    "print(\"Strides: \", arr.strides)\n",
    "\n",
    "# You can access specific elements\n",
    "print(\"arr[3][2] = \", arr[3][2])\n",
    "print(\"arr[3,2] = \", arr[3,2])\n",
    "\n",
    "# You can access entire rows\n",
    "print(\"arr[3] = \", arr[3])\n",
    "\n",
    "# Negative indexing\n",
    "print(\"arr[-1][-2] = \", arr[-1][-2])    \n",
    "print(\"arr[-1, -2] = \", arr[-1, -2]) \n",
    "print(\"arr[-3][-3] = \", arr[-3][-3])    \n",
    "print(\"arr[-3, -3] = \", arr[-3, -3])    \n",
    "print(\"arr[-3] = \", arr[-3])       \n",
    "print(\"arr[-1] = \", arr[-1])       \n"
   ]
  },
  {
   "cell_type": "markdown",
   "id": "5f0118fd-08e4-4790-8ffc-d19ee8622346",
   "metadata": {},
   "source": [
    "### c. Indexing 3-D NumPy Arrays"
   ]
  },
  {
   "cell_type": "code",
   "execution_count": 29,
   "id": "6bdeda98-5e0c-4551-9b44-9f0702aa5f01",
   "metadata": {},
   "outputs": [
    {
     "name": "stdout",
     "output_type": "stream",
     "text": [
      "Original Array:\n",
      " [[[1 2 3]\n",
      "  [5 6 7]\n",
      "  [9 0 5]]\n",
      "\n",
      " [[8 1 6]\n",
      "  [1 9 4]\n",
      "  [5 8 2]]]\n",
      "Array Shape =  (2, 3, 3)\n",
      "Strides: (36, 12, 4)\n"
     ]
    }
   ],
   "source": [
    "import numpy as np\n",
    "mylist = [\n",
    "          [[1, 2, 3], [5, 6, 7], [9, 0, 5]],\n",
    "          [[8, 1, 6], [1, 9, 4], [5, 8, 2]],\n",
    "         ]\n",
    "arr = np.array(mylist)\n",
    "print(\"Original Array:\\n\", arr)\n",
    "print(\"Array Shape = \",arr.shape)\n",
    "print(\"Strides:\", arr.strides)\n"
   ]
  },
  {
   "cell_type": "code",
   "execution_count": 30,
   "id": "7a751ea5-52a1-4845-8644-2e369894ded0",
   "metadata": {},
   "outputs": [
    {
     "name": "stdout",
     "output_type": "stream",
     "text": [
      "\n",
      "arr[0]: \n",
      " [[1 2 3]\n",
      " [5 6 7]\n",
      " [9 0 5]]\n",
      "arr[1]: \n",
      " [[8 1 6]\n",
      " [1 9 4]\n",
      " [5 8 2]]\n"
     ]
    }
   ],
   "source": [
    "# You can access 2-D matrix at first level\n",
    "print(\"\\narr[0]: \\n\", arr[0])\n",
    "# You can access 2-D matrix at second level\n",
    "print(\"arr[1]: \\n\", arr[1])"
   ]
  },
  {
   "cell_type": "code",
   "execution_count": 31,
   "id": "c3154c23-5a88-4fcf-a594-561634b0f386",
   "metadata": {},
   "outputs": [
    {
     "name": "stdout",
     "output_type": "stream",
     "text": [
      "Original Array:\n",
      " [[[1 2 3]\n",
      "  [5 6 7]\n",
      "  [9 0 5]]\n",
      "\n",
      " [[8 1 6]\n",
      "  [1 9 4]\n",
      "  [5 8 2]]]\n",
      "Array Shape =  (2, 3, 3)\n",
      "\n",
      "arr[0][1]:  [5 6 7]\n",
      "\n",
      "arr[0, 1]:  [5 6 7]\n",
      "arr[1][2]:  [5 8 2]\n",
      "arr[1, 2]:  [5 8 2]\n"
     ]
    }
   ],
   "source": [
    "print(\"Original Array:\\n\", arr)\n",
    "print(\"Array Shape = \",arr.shape)\n",
    "\n",
    "# You can access a specific row at a specific level\n",
    "print(\"\\narr[0][1]: \", arr[0][1])\n",
    "print(\"\\narr[0, 1]: \", arr[0, 1])\n",
    "print(\"arr[1][2]: \", arr[1][2])\n",
    "print(\"arr[1, 2]: \", arr[1, 2])"
   ]
  },
  {
   "cell_type": "code",
   "execution_count": 32,
   "id": "35584e1e-9c59-4051-8f8d-c5a08a88808b",
   "metadata": {},
   "outputs": [
    {
     "name": "stdout",
     "output_type": "stream",
     "text": [
      "Original Array:\n",
      " [[[1 2 3]\n",
      "  [5 6 7]\n",
      "  [9 0 5]]\n",
      "\n",
      " [[8 1 6]\n",
      "  [1 9 4]\n",
      "  [5 8 2]]]\n",
      "Array Shape =  (2, 3, 3)\n",
      "\n",
      "arr[0][1][2]:  7\n",
      "arr[1][2][1]:  8\n"
     ]
    }
   ],
   "source": [
    "print(\"Original Array:\\n\", arr)\n",
    "print(\"Array Shape = \",arr.shape)\n",
    "\n",
    "# You can access a specific element\n",
    "print(\"\\narr[0][1][2]: \", arr[0][1][2])\n",
    "print(\"arr[1][2][1]: \", arr[1][2][1])\n"
   ]
  },
  {
   "cell_type": "code",
   "execution_count": 33,
   "id": "a2a535ba-ad19-4fc2-9077-ab8c17314bc9",
   "metadata": {},
   "outputs": [
    {
     "name": "stdout",
     "output_type": "stream",
     "text": [
      "Original Array:\n",
      " [[[1 2 3]\n",
      "  [5 6 7]\n",
      "  [9 0 5]]\n",
      "\n",
      " [[8 1 6]\n",
      "  [1 9 4]\n",
      "  [5 8 2]]]\n",
      "Array Shape =  (2, 3, 3)\n",
      "\n",
      "arr[-1][-2][-1]:  4\n",
      "arr[-2][2]:  [9 0 5]\n"
     ]
    }
   ],
   "source": [
    "print(\"Original Array:\\n\", arr)\n",
    "print(\"Array Shape = \",arr.shape)\n",
    "\n",
    "# Negative indexing\n",
    "print(\"\\narr[-1][-2][-1]: \", arr[-1][-2][-1])    \n",
    "print(\"arr[-2][2]: \", arr[-2][2])    "
   ]
  },
  {
   "cell_type": "markdown",
   "id": "a42968f3-de9c-4553-bd81-c3db6156a235",
   "metadata": {},
   "source": [
    "## 2. Slicing NumPy Arrays\n",
    "- You can slice a numpy array in a similar fashion as we have sliced Python Lists, with two differences:\n",
    "    - The difference is that NumPy arrays can be sliced in more than one dimension.\n",
    "    - The other difference is that, when we slice a Python list we get a completely new list, while in case of numPy arrays, you get a **view** of the original array, which is just a way of accessing array data. Thus the original array is not copied in memory.\n",
    "- An array can be sliced using `:` symbol, which returns the range of elements specified by the index numbers.\n",
    "- There are three arguments for slicing arrays, all are optional:\n",
    "```\n",
    "array[[start]:[stop][:step]]\n",
    "```\n",
    "\n",
    "    - start: specifies from where the slicing should start, inclusive (default is 0) \n",
    "    - stop: specifies where it has to stop, exclusive (default is end of the array) \n",
    "    - step:  is by-default 1\n",
    "    \n",
    "Note: Subarrays that are extracted from arrays using slice operations are alternative views of the same underlying array data. This means that they are arrays that refer to the same data in memory as the original array, but with a different strides configuration."
   ]
  },
  {
   "cell_type": "markdown",
   "id": "51eb5923-d156-48f0-b91a-83c757861662",
   "metadata": {},
   "source": [
    "a### a. Slicing 1-D Arrays"
   ]
  },
  {
   "cell_type": "code",
   "execution_count": 34,
   "id": "bb17f296-030d-4763-8385-be1882b79b64",
   "metadata": {},
   "outputs": [
    {
     "name": "stdout",
     "output_type": "stream",
     "text": [
      "Original Array \n",
      " [4 5 6 7 0 2 3] \n",
      "Array Shape =  (7,)\n"
     ]
    }
   ],
   "source": [
    "import numpy as np\n",
    "mylist = [4, 5, 6, 7, 0, 2, 3]\n",
    "arr = np.array(mylist, dtype=np.uint8)\n",
    "print(\"Original Array \\n\", arr, \"\\nArray Shape = \",arr.shape)"
   ]
  },
  {
   "cell_type": "code",
   "execution_count": 35,
   "id": "6cc973e0-fda5-4767-83d2-956a1345aa8c",
   "metadata": {},
   "outputs": [
    {
     "name": "stdout",
     "output_type": "stream",
     "text": [
      "\n",
      "arr[:] =  [4 5 6 7 0 2 3]\n",
      "arr[3:] =  [7 0 2 3]\n",
      "arr[:4] =  [4 5 6 7]\n",
      "arr[2:5] =  [6 7 0]\n",
      "arr[:-2] =  [4 5 6 7 0]\n",
      "arr[-1:] =  [3]\n",
      "arr[-1:-4] =  []\n",
      "arr[-1:-4:-1] =  [3 2 0]\n",
      "arr[::-1] =  [3 2 0 7 6 5 4]\n",
      "\n",
      "After all this arr is same:  [4 5 6 7 0 2 3]\n"
     ]
    }
   ],
   "source": [
    "print(\"\\narr[:] = \", arr[:])\n",
    "print(\"arr[3:] = \", arr[3:])\n",
    "print(\"arr[:4] = \", arr[:4])\n",
    "print(\"arr[2:5] = \", arr[2:5])\n",
    "\n",
    "print(\"arr[:-2] = \", arr[:-2])\n",
    "print(\"arr[-1:] = \", arr[-1:])\n",
    "print(\"arr[-1:-4] = \", arr[-1:-4])\n",
    "print(\"arr[-1:-4:-1] = \", arr[-1:-4:-1])\n",
    "\n",
    "# reverse the array using step value as -1\n",
    "print(\"arr[::-1] = \", arr[::-1])\n",
    "print(\"\\nAfter all this arr is same: \", arr)"
   ]
  },
  {
   "cell_type": "markdown",
   "id": "22383d16-fe77-48e0-9950-c9dc272956d6",
   "metadata": {},
   "source": [
    "**Proof of Concept:** Slice of a Python List Returns a New List"
   ]
  },
  {
   "cell_type": "code",
   "execution_count": 36,
   "id": "37083b7b-dd78-4e6e-95c7-e6d9f395b0e3",
   "metadata": {},
   "outputs": [
    {
     "data": {
      "text/plain": [
       "[1, 2, 3, 4, 5, 6, 7, 8, 9]"
      ]
     },
     "execution_count": 36,
     "metadata": {},
     "output_type": "execute_result"
    }
   ],
   "source": [
    "list1 = [1, 2, 3, 4, 5, 6, 7,8, 9]\n",
    "list1"
   ]
  },
  {
   "cell_type": "code",
   "execution_count": 37,
   "id": "ced2fc45-d3b9-449c-9e5a-0c22acda0ba4",
   "metadata": {},
   "outputs": [
    {
     "data": {
      "text/plain": [
       "[3, 4, 5]"
      ]
     },
     "execution_count": 37,
     "metadata": {},
     "output_type": "execute_result"
    }
   ],
   "source": [
    "# A new list object is created after slicing\n",
    "list2 = list1[2:5]\n",
    "list2"
   ]
  },
  {
   "cell_type": "code",
   "execution_count": 38,
   "id": "35010c02-1edd-41d7-864c-f45da85ba0a4",
   "metadata": {},
   "outputs": [],
   "source": [
    "#If we make change to this list, it do not effect the original list\n",
    "list2[0] = 99"
   ]
  },
  {
   "cell_type": "code",
   "execution_count": 39,
   "id": "3837dbcd-cff6-4e0a-8e54-7a1f8c663bfe",
   "metadata": {},
   "outputs": [
    {
     "data": {
      "text/plain": [
       "[1, 2, 3, 4, 5, 6, 7, 8, 9]"
      ]
     },
     "execution_count": 39,
     "metadata": {},
     "output_type": "execute_result"
    }
   ],
   "source": [
    "list1"
   ]
  },
  {
   "cell_type": "code",
   "execution_count": 40,
   "id": "91acf216-0e49-4515-b36c-b67c0d0068e1",
   "metadata": {},
   "outputs": [
    {
     "data": {
      "text/plain": [
       "[99, 4, 5]"
      ]
     },
     "execution_count": 40,
     "metadata": {},
     "output_type": "execute_result"
    }
   ],
   "source": [
    "list2"
   ]
  },
  {
   "cell_type": "markdown",
   "id": "4b4f7523-e033-497a-b4a0-4aed42a71460",
   "metadata": {},
   "source": [
    "**Proof of Concept:** Slice of a numPy array returns a **view** of original numPy array"
   ]
  },
  {
   "cell_type": "code",
   "execution_count": 41,
   "id": "2a34ca1e-bc03-4671-a2ac-71ba4b059a21",
   "metadata": {},
   "outputs": [
    {
     "data": {
      "text/plain": [
       "array([1, 2, 3, 4, 5, 6, 7, 8, 9])"
      ]
     },
     "execution_count": 41,
     "metadata": {},
     "output_type": "execute_result"
    }
   ],
   "source": [
    "list1 = [1, 2, 3, 4, 5, 6, 7,8, 9]\n",
    "arr1 = np.array(list1)\n",
    "arr1"
   ]
  },
  {
   "cell_type": "code",
   "execution_count": 42,
   "id": "7940f9cd-98c4-4165-aea8-16ad844b4a30",
   "metadata": {},
   "outputs": [
    {
     "data": {
      "text/plain": [
       "array([3, 4, 5])"
      ]
     },
     "execution_count": 42,
     "metadata": {},
     "output_type": "execute_result"
    }
   ],
   "source": [
    "# A view of the original numPy array is created after slicing\n",
    "arr2 = arr1[2:5]\n",
    "arr2"
   ]
  },
  {
   "cell_type": "code",
   "execution_count": 43,
   "id": "723e7c01-768c-4b1e-aa07-c61a8520f89f",
   "metadata": {},
   "outputs": [],
   "source": [
    "# If we make change to this view, it will ofcourse effect the original array\n",
    "arr2[0] = 99"
   ]
  },
  {
   "cell_type": "code",
   "execution_count": 44,
   "id": "2710ce24-2b1f-44e5-8fd6-3c87daf7ca62",
   "metadata": {},
   "outputs": [
    {
     "data": {
      "text/plain": [
       "array([ 1,  2, 99,  4,  5,  6,  7,  8,  9])"
      ]
     },
     "execution_count": 44,
     "metadata": {},
     "output_type": "execute_result"
    }
   ],
   "source": [
    "arr1"
   ]
  },
  {
   "cell_type": "code",
   "execution_count": 45,
   "id": "fcb97a6e-8ea1-4126-a341-232530d4ad82",
   "metadata": {},
   "outputs": [
    {
     "data": {
      "text/plain": [
       "(array([99,  4,  5]), (4,))"
      ]
     },
     "execution_count": 45,
     "metadata": {},
     "output_type": "execute_result"
    }
   ],
   "source": [
    "arr2, arr2.strides"
   ]
  },
  {
   "cell_type": "markdown",
   "id": "6f5922d0-f965-48c0-8f5e-a0c797e32e35",
   "metadata": {},
   "source": [
    "### b. Slicing 2-D Arrays\n",
    "- Slicing a two-dimensional array is very similar to slicing a one-dimensional array. You just use a comma to separate the row slice and the column slice.\n",
    "- Numpy extends Python's list indexing notation using `[]` to multiple dimensions in an intuitive fashion. You can provide a comma-separated list of indices or ranges to select a specific element or a subarray (also called a slice) from a Numpy array."
   ]
  },
  {
   "cell_type": "code",
   "execution_count": 46,
   "id": "0b13f120-9cde-46db-855b-67692b308205",
   "metadata": {},
   "outputs": [
    {
     "name": "stdout",
     "output_type": "stream",
     "text": [
      "Original Array \n",
      " [[1 2 3 4]\n",
      " [5 6 7 8]\n",
      " [3 2 4 1]\n",
      " [7 3 4 9]\n",
      " [4 0 3 1]] \n",
      "Array Size =  (5, 4)\n",
      "\n",
      "arr[:,:] = \n",
      " [[1 2 3 4]\n",
      " [5 6 7 8]\n",
      " [3 2 4 1]\n",
      " [7 3 4 9]\n",
      " [4 0 3 1]]\n"
     ]
    }
   ],
   "source": [
    "import numpy as np\n",
    "mylist = [\n",
    "          [1, 2, 3, 4], \n",
    "          [5, 6, 7, 8], \n",
    "          [3, 2, 4, 1], \n",
    "          [7, 3, 4, 9], \n",
    "          [4, 0, 3, 1]\n",
    "          ]\n",
    "arr = np.array(mylist)\n",
    "print(\"Original Array \\n\", arr, \"\\nArray Size = \",arr.shape)\n",
    "\n",
    "# Note we have two slice objects (row slice and column slice) in case of 2-D slicing separated by a comma\n",
    "print(\"\\narr[:,:] = \\n\", arr[:,:])"
   ]
  },
  {
   "cell_type": "code",
   "execution_count": 47,
   "id": "5af2d303-c262-4b18-9702-521586233b55",
   "metadata": {},
   "outputs": [
    {
     "name": "stdout",
     "output_type": "stream",
     "text": [
      "Original Array \n",
      " [[1 2 3 4]\n",
      " [5 6 7 8]\n",
      " [3 2 4 1]\n",
      " [7 3 4 9]\n",
      " [4 0 3 1]] \n",
      "Array Size =  (5, 4)\n",
      "arr[2] =  [3 2 4 1]\n",
      "arr[2,:]=  [3 2 4 1]\n"
     ]
    }
   ],
   "source": [
    "print(\"Original Array \\n\", arr, \"\\nArray Size = \",arr.shape)\n",
    "\n",
    "# Get the row at index 2\n",
    "print(\"arr[2] = \", arr[2])      # you can ignore the : symbol for the column part\n",
    "print(\"arr[2,:]= \", arr[2,:])   # for better readability give comma separated two values"
   ]
  },
  {
   "cell_type": "code",
   "execution_count": 48,
   "id": "804a50de-02ff-40d0-b990-526f49dfefc8",
   "metadata": {},
   "outputs": [
    {
     "name": "stdout",
     "output_type": "stream",
     "text": [
      "Original Array \n",
      " [[1 2 3 4]\n",
      " [5 6 7 8]\n",
      " [3 2 4 1]\n",
      " [7 3 4 9]\n",
      " [4 0 3 1]] \n",
      "Array Size =  (5, 4)\n",
      "arr[:, 1] =  [2 6 2 3 0]\n"
     ]
    }
   ],
   "source": [
    "print(\"Original Array \\n\", arr, \"\\nArray Size = \",arr.shape)\n",
    "\n",
    "# Get the column at index 1 (Get all the row values of column at index 1)\n",
    "print(\"arr[:, 1] = \", arr[:, 1])"
   ]
  },
  {
   "cell_type": "code",
   "execution_count": 49,
   "id": "5e448aa9-4d8f-4399-bf5a-b8e95914bf3b",
   "metadata": {},
   "outputs": [
    {
     "name": "stdout",
     "output_type": "stream",
     "text": [
      "Original Array \n",
      " [[1 2 3 4]\n",
      " [5 6 7 8]\n",
      " [3 2 4 1]\n",
      " [7 3 4 9]\n",
      " [4 0 3 1]] \n",
      "Array Size =  (5, 4)\n"
     ]
    }
   ],
   "source": [
    "print(\"Original Array \\n\", arr, \"\\nArray Size = \",arr.shape)"
   ]
  },
  {
   "cell_type": "code",
   "execution_count": 50,
   "id": "761003b8-dda1-49a5-b037-7a7829c8710b",
   "metadata": {},
   "outputs": [
    {
     "name": "stdout",
     "output_type": "stream",
     "text": [
      "\n",
      "arr[1, 1:3] =  [6 7]\n"
     ]
    }
   ],
   "source": [
    "# From the row at index 1, slice elements from index 1 to index 2\n",
    "print(\"\\narr[1, 1:3] = \",arr[1, 1:3])"
   ]
  },
  {
   "cell_type": "code",
   "execution_count": 51,
   "id": "8ca28d7e-b2b4-4b95-b4a6-830689231e6d",
   "metadata": {},
   "outputs": [
    {
     "name": "stdout",
     "output_type": "stream",
     "text": [
      "Original Array \n",
      " [[1 2 3 4]\n",
      " [5 6 7 8]\n",
      " [3 2 4 1]\n",
      " [7 3 4 9]\n",
      " [4 0 3 1]] \n",
      "Array Size =  (5, 4)\n",
      "\n",
      "arr[:, ::-1] =\n",
      " [[4 3 2 1]\n",
      " [8 7 6 5]\n",
      " [1 4 2 3]\n",
      " [9 4 3 7]\n",
      " [1 3 0 4]]\n"
     ]
    }
   ],
   "source": [
    "print(\"Original Array \\n\", arr, \"\\nArray Size = \",arr.shape)\n",
    "\n",
    "# Reversing elements of all rows is tricky. \n",
    "# Read it as \"select all the rows, and in each row reverse all the column values\n",
    "print(\"\\narr[:, ::-1] =\\n\", arr[:, ::-1])"
   ]
  },
  {
   "cell_type": "code",
   "execution_count": 52,
   "id": "d9b0ed3f-bff1-4041-af8a-a29fcb2f7e55",
   "metadata": {},
   "outputs": [
    {
     "name": "stdout",
     "output_type": "stream",
     "text": [
      "Original Array \n",
      " [[1 2 3 4]\n",
      " [5 6 7 8]\n",
      " [3 2 4 1]\n",
      " [7 3 4 9]\n",
      " [4 0 3 1]] \n",
      "Array Size =  (5, 4)\n",
      "\n",
      "arr[::-1, :] =\n",
      " [[4 0 3 1]\n",
      " [7 3 4 9]\n",
      " [3 2 4 1]\n",
      " [5 6 7 8]\n",
      " [1 2 3 4]]\n"
     ]
    }
   ],
   "source": [
    "print(\"Original Array \\n\", arr, \"\\nArray Size = \",arr.shape)\n",
    "\n",
    "# Reverse elements of all columns is also tricky. Actually you want to reverse the elements of all the rows\n",
    "# Read it as \"select all the columns, and in each column reverse all the row values\n",
    "print(\"\\narr[::-1, :] =\\n\", arr[::-1, :])"
   ]
  },
  {
   "cell_type": "markdown",
   "id": "86fef2ff-fb28-4ea6-afc9-e99a349b4954",
   "metadata": {},
   "source": [
    ">- **Slicing 3-D arrays can be performed in the same fashion. The only difference is that we have three comma separated slice objects instead of two and it is a bit tricky to visualize :)**"
   ]
  },
  {
   "cell_type": "code",
   "execution_count": 53,
   "id": "db6ac7ae-cfa4-4ab5-ba01-18b0f96ae298",
   "metadata": {},
   "outputs": [
    {
     "name": "stdout",
     "output_type": "stream",
     "text": [
      "4\n",
      "[7 3 4 9]\n",
      "3\n",
      "2\n",
      "[3 2 4 1]\n",
      "[2 4]\n",
      "[[4 0 3 1]\n",
      " [7 3 4 9]\n",
      " [3 2 4 1]\n",
      " [5 6 7 8]\n",
      " [1 2 3 4]]\n",
      "[[3 4]\n",
      " [4 3]]\n"
     ]
    }
   ],
   "source": [
    "arr = np.array([[1, 2, 3, 4], [5, 6, 7, 8], [3, 2, 4, 1], [7, 3, 4, 9], [4, 0, 3, 1] ])\n",
    "print(arr[3,2])\n",
    "print(arr[3])\n",
    "print(arr[-1, -2]) \n",
    "print(arr[-3][-3])    \n",
    "print(arr[-3])       \n",
    "print(arr[2, 1:3])\n",
    "print(arr[::-1, :])\n",
    "print(arr[2::2, 0::2])"
   ]
  },
  {
   "cell_type": "markdown",
   "id": "c094d38a-0579-4af3-a394-662fa8ed2fe9",
   "metadata": {},
   "source": [
    "## 3. Boolean/Fancy Array Indexing\n",
    "\n",
    "- NumPy provides another convenient method to index arrays, called fancy indexing. With fancy indexing, an array can be indexed with another NumPy array, a Python list, or a sequence of integers, whose values select elements in the indexed array. Fancy indexing requires that the elements in the array or list used for indexing are integers.\n",
    "\n",
    "- Boolean indexing is an extremely intuitive and elegant way of selecting contents from a numPy array based on logical conditions.\n",
    "- In simple words, we can slice NumPy arrays by either:\n",
    "    - Provide a condition inside the `[]` operator\n",
    "    - Provide a Boolean mask corresponding to indexes in the array.\n",
    "- If the value at an index of that list is True that element is contained in the filtered array, if the value at that index is False that element is excluded from the filtered array.\n",
    "\n",
    ">- **Note:** Unlike normal slicing which creates a view, Boolean/Fancy Indexing creates a copy of numPy array.\n",
    "\n",
    ">- **Note:** The Python keywords `and` and `or` do not work with boolean arrays. Use `&` and `|` instead"
   ]
  },
  {
   "cell_type": "markdown",
   "id": "19b75097-0dbd-447c-b697-4374a6030c8a",
   "metadata": {},
   "source": [
    "### a. Boolean/Fancy Indexing on 1-D Arrays"
   ]
  },
  {
   "cell_type": "code",
   "execution_count": 54,
   "id": "a00be9b0-caad-43ff-8afb-3dfe1620a1ba",
   "metadata": {},
   "outputs": [
    {
     "name": "stdout",
     "output_type": "stream",
     "text": [
      "Original Array:  [29 84 15 79 87 91 83 12 69 94]\n",
      "[29 15 87 94]\n",
      "[29 15 87 94]\n"
     ]
    }
   ],
   "source": [
    "# Fancy Indexing\n",
    "import numpy as np\n",
    "# creating 1-D array of size 10 of int type b/w interval (1,100) \n",
    "arr = np.random.randint(1, 101, 10)\n",
    "print(\"Original Array: \", arr)\n",
    "print(arr[np.array([0, 2, 4, 9])])\n",
    "print(arr[[0, 2, 4, 9]])"
   ]
  },
  {
   "cell_type": "code",
   "execution_count": 55,
   "id": "7bb1dee5-28c3-4051-88be-6064019d5d92",
   "metadata": {},
   "outputs": [
    {
     "name": "stdout",
     "output_type": "stream",
     "text": [
      "Original Array:  [57 15 70 57 91 49 25  8 54 22]\n",
      "[ True False  True  True  True False False False  True False]\n",
      "[57 70 57 91 54]\n"
     ]
    }
   ],
   "source": [
    "# Boolean Indexing\n",
    "import numpy as np\n",
    "# creating 1-D array of size 10 of int type b/w interval (1,100) \n",
    "arr = np.random.randint(1, 101, 10)\n",
    "print(\"Original Array: \", arr)\n",
    "print(arr > 50)\n",
    "print(arr[arr>50])"
   ]
  },
  {
   "cell_type": "code",
   "execution_count": 56,
   "id": "29fd0a48-110f-4d48-ba35-8d3475ded9a3",
   "metadata": {},
   "outputs": [
    {
     "name": "stdout",
     "output_type": "stream",
     "text": [
      "Original Array:  [79 21 13 57 93 11 11 10 13 59]\n",
      "\n",
      "arr[arr%2 == 0] =  [10]\n",
      "arr[arr%2 == 1] =  [79 21 13 57 93 11 11 13 59]\n",
      "\n",
      "arr[arr > 50] =  [79 57 93 59]\n",
      "arr[arr>30 & arr<60] =  [57 59]\n"
     ]
    }
   ],
   "source": [
    "# Boolean Indexing\n",
    "import numpy as np\n",
    "# creating 1-D array of size 10 of int type b/w interval (1,100) \n",
    "arr = np.random.randint(1, 101, 10)\n",
    "print(\"Original Array: \", arr)\n",
    "\n",
    "# Getting even values from array\n",
    "print(\"\\narr[arr%2 == 0] = \",arr[arr%2==0])\n",
    "# Getting odd values from array\n",
    "print(\"arr[arr%2 == 1] = \",arr[arr%2==1])\n",
    "\n",
    "# Getting values greater than 50\n",
    "print(\"\\narr[arr > 50] = \",arr[arr > 50])\n",
    "# Getting values between 25 and 75 both exclusive\n",
    "print(\"arr[arr>30 & arr<60] = \",arr[(arr>30) & (arr<60)])"
   ]
  },
  {
   "cell_type": "code",
   "execution_count": 57,
   "id": "bcbb7ff3-e39a-4a41-8474-be27783ac2c9",
   "metadata": {},
   "outputs": [
    {
     "name": "stdout",
     "output_type": "stream",
     "text": [
      "Original Array:  [1 2 3 4 5]\n",
      "Filtered Array:  [4]\n"
     ]
    }
   ],
   "source": [
    "# We can use a mask instead of mentioning a condition as done above\n",
    "import numpy as np\n",
    "arr1 = np.array([1, 2, 3, 4, 5])\n",
    "print(\"Original Array: \", arr1)\n",
    "\n",
    "mask=[False, False, False, True, False]\n",
    "arr2 = arr1[mask]\n",
    "\n",
    "print(\"Filtered Array: \", arr2)  "
   ]
  },
  {
   "cell_type": "markdown",
   "id": "609399ea-3b62-4a57-b292-b7d713c7da81",
   "metadata": {},
   "source": [
    "### b. Boolean/Fancy Indexing on 2-D Arrays"
   ]
  },
  {
   "cell_type": "markdown",
   "id": "f5debd56-ff60-4aab-9561-dc923a93588b",
   "metadata": {},
   "source": [
    "**Example 1:**"
   ]
  },
  {
   "cell_type": "code",
   "execution_count": 58,
   "id": "a0d39089-51a7-42a2-a2dc-47ad0852c5a4",
   "metadata": {},
   "outputs": [
    {
     "name": "stdout",
     "output_type": "stream",
     "text": [
      "Original matrix \n",
      " [[5 9 3 6 2]\n",
      " [6 9 3 4 9]\n",
      " [7 9 2 8 8]\n",
      " [4 5 3 6 9]\n",
      " [8 5 3 2 4]] \n",
      "Matrix Shape =  (5, 5)\n"
     ]
    }
   ],
   "source": [
    "# By passing a tuple to size means rows and columns\n",
    "matrix1 = np.random.randint(low = 1, high = 10, size = (5,5))\n",
    "print(\"Original matrix \\n\", matrix1, \"\\nMatrix Shape = \",matrix1.shape)"
   ]
  },
  {
   "cell_type": "markdown",
   "id": "21a3a5b6-b64a-45a4-acf9-2b1728f4ac2d",
   "metadata": {},
   "source": [
    ">Suppose we want a new matrix from above matrix, that only contains rows at index 0, 2, and 3"
   ]
  },
  {
   "cell_type": "code",
   "execution_count": 59,
   "id": "da5f6f78-8b75-4c22-866a-72c4ca9bd622",
   "metadata": {},
   "outputs": [
    {
     "name": "stdout",
     "output_type": "stream",
     "text": [
      "\n",
      "Filtered matrix \n",
      " [[5 9 3 6 2]\n",
      " [7 9 2 8 8]\n",
      " [4 5 3 6 9]] \n",
      "Matrix Shape =  (3, 5)\n"
     ]
    }
   ],
   "source": [
    "# Create a corresponding boolean mask\n",
    "rows_wanted = np.array( [True, False, True, True, False] )\n",
    "\n",
    "matrix2 = matrix1[rows_wanted, :]\n",
    "print(\"\\nFiltered matrix \\n\", matrix2, \"\\nMatrix Shape = \",matrix2.shape)"
   ]
  },
  {
   "cell_type": "markdown",
   "id": "37b0ee75-d18a-4c72-b2bb-82fa824d7878",
   "metadata": {},
   "source": [
    "**Example 2:**"
   ]
  },
  {
   "cell_type": "code",
   "execution_count": 60,
   "id": "dbd0992c-74dc-4b97-ae90-284b69db2826",
   "metadata": {},
   "outputs": [
    {
     "name": "stdout",
     "output_type": "stream",
     "text": [
      "Original matrix \n",
      " [[2 5 8 2 8]\n",
      " [4 3 7 6 3]\n",
      " [7 6 9 9 3]\n",
      " [8 1 2 1 8]\n",
      " [1 6 1 2 4]] \n",
      "Matrix Shape =  (5, 5)\n"
     ]
    }
   ],
   "source": [
    "# By passing a tuple to size means rows and columns\n",
    "matrix1 = np.random.randint(low = 1, high = 10, size = (5,5))\n",
    "print(\"Original matrix \\n\", matrix1, \"\\nMatrix Shape = \",matrix1.shape)"
   ]
  },
  {
   "cell_type": "markdown",
   "id": "45b1b0be-2796-4087-88cc-57b2b5ec8228",
   "metadata": {},
   "source": [
    ">Suppose we want a new matrix from above matrix, that only contains columns at index 1 and 3 only"
   ]
  },
  {
   "cell_type": "code",
   "execution_count": 61,
   "id": "e57c22bd-dd6d-40ee-882c-6284c43cb9ab",
   "metadata": {},
   "outputs": [
    {
     "name": "stdout",
     "output_type": "stream",
     "text": [
      "\n",
      "Filtered matrix \n",
      " [[5 2]\n",
      " [3 6]\n",
      " [6 9]\n",
      " [1 1]\n",
      " [6 2]] \n",
      "Matrix Shape =  (5, 2)\n"
     ]
    }
   ],
   "source": [
    "# Create a corresponding boolean mask\n",
    "cols_wanted = np.array( [False, True, False, True, False] )\n",
    "\n",
    "matrix2 = matrix1[ : , cols_wanted]\n",
    "print(\"\\nFiltered matrix \\n\", matrix2, \"\\nMatrix Shape = \",matrix2.shape)"
   ]
  },
  {
   "cell_type": "markdown",
   "id": "72704817-d6bf-4eb1-a098-a9d783249263",
   "metadata": {},
   "source": [
    "**Example 3:**"
   ]
  },
  {
   "cell_type": "code",
   "execution_count": 62,
   "id": "36665a2e-b3ec-4b9c-b4fb-e122fdf2a16f",
   "metadata": {},
   "outputs": [
    {
     "name": "stdout",
     "output_type": "stream",
     "text": [
      "Original matrix \n",
      " [[8 4 6 3 3]\n",
      " [5 1 3 9 1]\n",
      " [5 5 7 5 4]\n",
      " [2 1 8 3 3]\n",
      " [8 2 8 2 8]] \n",
      "Matrix Shape =  (5, 5)\n"
     ]
    }
   ],
   "source": [
    "import numpy as np\n",
    "# By passing a tuple to size means rows and columns\n",
    "matrix1 = np.random.randint(low = 1, high = 10, size = (5,5))\n",
    "print(\"Original matrix \\n\", matrix1, \"\\nMatrix Shape = \",matrix1.shape)"
   ]
  },
  {
   "cell_type": "code",
   "execution_count": 63,
   "id": "1adf847a-be03-4231-bb99-ef350ea97988",
   "metadata": {},
   "outputs": [
    {
     "name": "stdout",
     "output_type": "stream",
     "text": [
      "\n",
      "Filtered matrix \n",
      " [[5 1 3 9 1]\n",
      " [5 5 7 5 4]\n",
      " [2 1 8 3 3]] \n",
      "Matrix Shape =  (3, 5)\n"
     ]
    }
   ],
   "source": [
    "rows_wanted = np.array( [False, True, True, True, False] )\n",
    "\n",
    "matrix2 = matrix1[ rows_wanted , :]\n",
    "print(\"\\nFiltered matrix \\n\", matrix2, \"\\nMatrix Shape = \",matrix2.shape)"
   ]
  },
  {
   "cell_type": "code",
   "execution_count": 64,
   "id": "aed34e3b-1ad4-431d-817e-b0ec57951d3e",
   "metadata": {},
   "outputs": [
    {
     "name": "stdout",
     "output_type": "stream",
     "text": [
      "\n",
      "Filtered matrix \n",
      " [[1 3 9]\n",
      " [5 7 5]\n",
      " [1 8 3]] \n",
      "Matrix Shape =  (3, 3)\n"
     ]
    }
   ],
   "source": [
    "cols_wanted = np.array( [False, True, True, True, False] )\n",
    "\n",
    "matrix3 = matrix2[ :, cols_wanted]\n",
    "print(\"\\nFiltered matrix \\n\", matrix3, \"\\nMatrix Shape = \",matrix3.shape)"
   ]
  },
  {
   "cell_type": "markdown",
   "id": "dcd9263d-c405-4ef7-a820-cf1692cfd3a2",
   "metadata": {},
   "source": [
    "**Can you think of doing this in one step or in a more elegant fashion?**"
   ]
  },
  {
   "cell_type": "code",
   "execution_count": 65,
   "id": "e206f901-56d1-4216-b87b-2d2182069cf1",
   "metadata": {},
   "outputs": [
    {
     "name": "stdout",
     "output_type": "stream",
     "text": [
      "\n",
      "Filtered matrix \n",
      " [[1 3 9]\n",
      " [5 7 5]\n",
      " [1 8 3]] \n",
      "Matrix Shape =  (3, 3)\n"
     ]
    }
   ],
   "source": [
    "matrix3 = matrix1[1:4, 1:4]\n",
    "print(\"\\nFiltered matrix \\n\", matrix3, \"\\nMatrix Shape = \",matrix3.shape)"
   ]
  },
  {
   "cell_type": "code",
   "execution_count": 66,
   "id": "8cce84c5-b511-4d74-a47d-da96327f66b2",
   "metadata": {},
   "outputs": [
    {
     "data": {
      "text/plain": [
       "array([[1, 3, 9],\n",
       "       [5, 7, 5],\n",
       "       [1, 8, 3]])"
      ]
     },
     "execution_count": 66,
     "metadata": {},
     "output_type": "execute_result"
    }
   ],
   "source": [
    "matrix2 = matrix1[ 1 : -1,  1 : -1 ]\n",
    "matrix2"
   ]
  },
  {
   "cell_type": "markdown",
   "id": "5c2eea2d-bffb-44c5-9af6-d6f92c194c21",
   "metadata": {},
   "source": [
    "# Four Slicing Problems with Solutions"
   ]
  },
  {
   "cell_type": "code",
   "execution_count": 67,
   "id": "c7d44feb-d706-452a-9739-6d36cd14099b",
   "metadata": {},
   "outputs": [],
   "source": [
    "m1 = np.array([\n",
    "            [0,1,2,3,4,5],\n",
    "            [6,7,8,9,10,11],\n",
    "            [12,13,14,15,16,17],\n",
    "            [18,19,20,21,22,23],\n",
    "            [24,25,26,27,28,29],\n",
    "            [30,31,32,33,34,35]\n",
    "])"
   ]
  },
  {
   "cell_type": "code",
   "execution_count": 68,
   "id": "ef59eb7c-b130-497e-8b3f-f95fbe7ef30c",
   "metadata": {},
   "outputs": [
    {
     "data": {
      "text/plain": [
       "array([[ 0,  1,  2,  3,  4,  5],\n",
       "       [ 6,  7,  8,  9, 10, 11],\n",
       "       [12, 13, 14, 15, 16, 17],\n",
       "       [18, 19, 20, 21, 22, 23],\n",
       "       [24, 25, 26, 27, 28, 29],\n",
       "       [30, 31, 32, 33, 34, 35]])"
      ]
     },
     "execution_count": 68,
     "metadata": {},
     "output_type": "execute_result"
    }
   ],
   "source": [
    "m1"
   ]
  },
  {
   "cell_type": "code",
   "execution_count": 69,
   "id": "adc7de4b-0f1d-4f21-811e-84b87f72c158",
   "metadata": {},
   "outputs": [
    {
     "data": {
      "text/plain": [
       "array([3, 4])"
      ]
     },
     "execution_count": 69,
     "metadata": {},
     "output_type": "execute_result"
    }
   ],
   "source": [
    "m1[0,3:5]"
   ]
  },
  {
   "cell_type": "code",
   "execution_count": 70,
   "id": "bd27f7e8-57c9-416f-a00f-936124e9ad76",
   "metadata": {},
   "outputs": [
    {
     "data": {
      "text/plain": [
       "array([[28, 29],\n",
       "       [34, 35]])"
      ]
     },
     "execution_count": 70,
     "metadata": {},
     "output_type": "execute_result"
    }
   ],
   "source": [
    "m1[4:, 4:]"
   ]
  },
  {
   "cell_type": "code",
   "execution_count": 71,
   "id": "c72e2896-62e9-4224-ae87-e1a61f9950fb",
   "metadata": {},
   "outputs": [],
   "source": [
    "m2 = m1[:,2]"
   ]
  },
  {
   "cell_type": "code",
   "execution_count": 72,
   "id": "244af348-e89c-4e22-856e-141b92d8d9e3",
   "metadata": {},
   "outputs": [
    {
     "data": {
      "text/plain": [
       "(24,)"
      ]
     },
     "execution_count": 72,
     "metadata": {},
     "output_type": "execute_result"
    }
   ],
   "source": [
    "m2.strides"
   ]
  },
  {
   "cell_type": "code",
   "execution_count": 73,
   "id": "8d672ca7-2c97-4f2c-9a71-f9f38bf7882e",
   "metadata": {},
   "outputs": [
    {
     "data": {
      "text/plain": [
       "array([[12, 14, 16],\n",
       "       [24, 26, 28]])"
      ]
     },
     "execution_count": 73,
     "metadata": {},
     "output_type": "execute_result"
    }
   ],
   "source": [
    "m1[2::2, 0::2]"
   ]
  },
  {
   "cell_type": "code",
   "execution_count": null,
   "id": "5b62c6b1-e170-4250-bde4-24f0e3a9480f",
   "metadata": {},
   "outputs": [],
   "source": []
  }
 ],
 "metadata": {
  "kernelspec": {
   "display_name": "Python 3 (ipykernel)",
   "language": "python",
   "name": "python3"
  },
  "language_info": {
   "codemirror_mode": {
    "name": "ipython",
    "version": 3
   },
   "file_extension": ".py",
   "mimetype": "text/x-python",
   "name": "python",
   "nbconvert_exporter": "python",
   "pygments_lexer": "ipython3",
   "version": "3.12.4"
  }
 },
 "nbformat": 4,
 "nbformat_minor": 5
}
