{
 "cells": [
  {
   "cell_type": "markdown",
   "id": "2f6acdc3",
   "metadata": {},
   "source": [
    "# Part -I (Broadcasting, Reshaping, Sorting and Iterating NumPy Arrays)"
   ]
  },
  {
   "cell_type": "markdown",
   "id": "c10ce742",
   "metadata": {},
   "source": [
    "## Learning agenda \n",
    "1. Broadcasting NumPy Arrays\n",
    "2. Reshaping NumPy Arrays\n",
    "    - Use `shape` attribute (in-place operation)\n",
    "    - Use `np.reshape()` method (shallow copy)\n",
    "    - Use `np.resize()` method (deep copy)\n",
    "    - Use `ndarray.transpose()` method (shallow copy)\n",
    "    - Use `np.swapaxes()`method (shallow copy)\n",
    "    - Use `np.flatten()` method (deep copy)\n",
    "3. Sorting Arrays using `np.sort()` Method\n",
    "4. Iterating NumPy Arrays"
   ]
  },
  {
   "cell_type": "markdown",
   "id": "c3ea9ffe",
   "metadata": {},
   "source": [
    "## 1. Broadcasting numPy Arrays\n",
    "- Numpy arrays also support **broadcasting**, allowing arithmetic operations between two arrays with different numbers of dimensions but compatible shapes. \n",
    "- Subject to certain constraints, the smaller array is “broadcast” across the larger array so that they have compatible shapes.\n",
    "- Two dimensions are compatible when\n",
    "    - they are equal, or\n",
    "    - one of them is 1"
   ]
  },
  {
   "cell_type": "markdown",
   "id": "605189d4",
   "metadata": {},
   "source": [
    ">**Review of Arithmetic operations with numPy arrays of same shape:**"
   ]
  },
  {
   "cell_type": "code",
   "execution_count": 1,
   "id": "25af4615",
   "metadata": {},
   "outputs": [
    {
     "name": "stdout",
     "output_type": "stream",
     "text": [
      "arr1:  [47 47  9  8 43]\n",
      "arr2:  [1 6 6 4 6]\n",
      "arr1 + arr2 =  [48 53 15 12 49]\n",
      "arr1 / arr2 =  [47.          7.83333333  1.5         2.          7.16666667]\n",
      "arr1 // arr2 =  [47  7  1  2  7]\n",
      "arr1 ** arr2 =  [         47 -2105686559      531441        4096  2026395753]\n"
     ]
    }
   ],
   "source": [
    "import numpy as np\n",
    "# Create two 1-D arrays each having 4 random integers from 1 to 9\n",
    "arr1 = np.random.randint(1,50, size=5)\n",
    "arr2 = np.random.randint(1,10, size=5)\n",
    "print(\"arr1: \", arr1)\n",
    "print(\"arr2: \", arr2)\n",
    "\n",
    "# After the operation a new `ndarray` is returned\n",
    "print(\"arr1 + arr2 = \",      arr1 + arr2)    \n",
    "print(\"arr1 / arr2 = \", arr1 / arr2)    \n",
    "print(\"arr1 // arr2 = \",   arr1  // arr2)  \n",
    "print(\"arr1 ** arr2 = \",      arr1  ** arr2)   "
   ]
  },
  {
   "cell_type": "markdown",
   "id": "9f70a279",
   "metadata": {},
   "source": [
    "### a. Arithmetic of 1-Dimensional Array with a Scalar Value"
   ]
  },
  {
   "cell_type": "code",
   "execution_count": 2,
   "id": "2dc0cc6f",
   "metadata": {},
   "outputs": [
    {
     "name": "stdout",
     "output_type": "stream",
     "text": [
      "arr1:  [1 2 3 4]\n",
      "arr1.shape:  (4,)\n",
      "a:  2\n"
     ]
    }
   ],
   "source": [
    "# Consider adding a scalar value 'a' to a 1-D numPy array\n",
    "arr1 = np.array([1, 2, 3, 4])\n",
    "print(\"arr1: \", arr1)\n",
    "print(\"arr1.shape: \", arr1.shape)\n",
    "a = 2\n",
    "print(\"a: \", a)"
   ]
  },
  {
   "cell_type": "code",
   "execution_count": 3,
   "id": "fde47c32",
   "metadata": {},
   "outputs": [
    {
     "name": "stdout",
     "output_type": "stream",
     "text": [
      "arr2: \n",
      " [3 4 5 6]\n"
     ]
    }
   ],
   "source": [
    "# The scalar value is replicated to match the shape of arr1 before the operation\n",
    "#   [2  2  2  2] \n",
    "\n",
    "arr2 = arr1 + a \n",
    "print(\"arr2: \\n\", arr2)"
   ]
  },
  {
   "cell_type": "markdown",
   "id": "8dc9db14",
   "metadata": {},
   "source": [
    "### b. Arithmetic of 2-Dimensional Array with a Scalar Value"
   ]
  },
  {
   "cell_type": "code",
   "execution_count": 4,
   "id": "254d9dff",
   "metadata": {},
   "outputs": [
    {
     "name": "stdout",
     "output_type": "stream",
     "text": [
      "arr1:\n",
      " [[1 2 3]\n",
      " [1 2 3]]\n",
      "arr1.shape:  (2, 3)\n",
      "a:  2\n"
     ]
    }
   ],
   "source": [
    "# Consider adding a scalar value 'a' to a 2-D numPy array\n",
    "arr1 = np.array([[1, 2, 3], [1, 2, 3]])\n",
    "print(\"arr1:\\n\", arr1)\n",
    "print(\"arr1.shape: \", arr1.shape)\n",
    "a = 2\n",
    "print(\"a: \", a)"
   ]
  },
  {
   "cell_type": "code",
   "execution_count": 5,
   "id": "4c024488",
   "metadata": {},
   "outputs": [
    {
     "name": "stdout",
     "output_type": "stream",
     "text": [
      "arr2: \n",
      " [[3 4 5]\n",
      " [3 4 5]]\n"
     ]
    }
   ],
   "source": [
    "# The scalar value is replicated to match the shape of arr1 before the operation\n",
    "#   2  2  2 \n",
    "#   2  2  2 \n",
    "\n",
    "arr2 = arr1 + a \n",
    "print(\"arr2: \\n\", arr2)"
   ]
  },
  {
   "cell_type": "markdown",
   "id": "a278f789",
   "metadata": {},
   "source": [
    "### c. Arithmetic of 1-Dimensional Array with a 2-Dimensional Array"
   ]
  },
  {
   "cell_type": "markdown",
   "id": "12b38b4c",
   "metadata": {},
   "source": [
    "**Example 1:** Consider adding a 2-D array (3x4) to a 1-D array with 4 values"
   ]
  },
  {
   "cell_type": "code",
   "execution_count": 6,
   "id": "c70b2618",
   "metadata": {},
   "outputs": [
    {
     "name": "stdout",
     "output_type": "stream",
     "text": [
      "arr1:\n",
      " [[1 2 3 4]\n",
      " [3 4 5 6]\n",
      " [2 7 8 9]]\n",
      "arr1.shape:  (3, 4)\n",
      "arr2:\n",
      " [4 2 3 2]\n",
      "arr2.shape:  (4,)\n"
     ]
    }
   ],
   "source": [
    "arr1 = np.array([[1, 2, 3, 4], [3, 4, 5, 6], [2, 7, 8, 9]])\n",
    "arr2 = np.array([4, 2, 3, 2])\n",
    "print(\"arr1:\\n\", arr1)\n",
    "print(\"arr1.shape: \", arr1.shape)\n",
    "print(\"arr2:\\n\", arr2)\n",
    "print(\"arr2.shape: \", arr2.shape)"
   ]
  },
  {
   "cell_type": "code",
   "execution_count": 7,
   "id": "5a995ec2",
   "metadata": {},
   "outputs": [
    {
     "name": "stdout",
     "output_type": "stream",
     "text": [
      "arr3: \n",
      " [[ 5  4  6  6]\n",
      " [ 7  6  8  8]\n",
      " [ 6  9 11 11]]\n"
     ]
    }
   ],
   "source": [
    "# The only row of arr2 is replicated twice before the operation\n",
    "#   4  2  3  5\n",
    "#   4  2  3  5\n",
    "#   4  2  3  5\n",
    "\n",
    "arr3 = arr1 + arr2 \n",
    "\n",
    "print(\"arr3: \\n\", arr3)"
   ]
  },
  {
   "cell_type": "markdown",
   "id": "b9e71d83",
   "metadata": {},
   "source": [
    "**Example 2:** Consider adding a 2-D array (4x2) to a 1-D array with 2 values"
   ]
  },
  {
   "cell_type": "code",
   "execution_count": 8,
   "id": "8785ba17",
   "metadata": {},
   "outputs": [
    {
     "name": "stdout",
     "output_type": "stream",
     "text": [
      "arr1:\n",
      " [[1 2]\n",
      " [3 4]\n",
      " [5 6]\n",
      " [7 8]]\n",
      "arr1.shape:  (4, 2)\n",
      "arr2:\n",
      " [4 5]\n",
      "arr2.shape:  (2,)\n"
     ]
    }
   ],
   "source": [
    "arr1 = np.array([[1, 2], [3, 4], [5, 6], [7, 8]])\n",
    "print(\"arr1:\\n\", arr1)\n",
    "print(\"arr1.shape: \", arr1.shape)\n",
    "\n",
    "arr2 = np.array([4, 5])\n",
    "print(\"arr2:\\n\", arr2)\n",
    "print(\"arr2.shape: \", arr2.shape)"
   ]
  },
  {
   "cell_type": "code",
   "execution_count": 9,
   "id": "a9e6b566",
   "metadata": {},
   "outputs": [
    {
     "name": "stdout",
     "output_type": "stream",
     "text": [
      "arr3: \n",
      " [[ 5  7]\n",
      " [ 7  9]\n",
      " [ 9 11]\n",
      " [11 13]]\n"
     ]
    }
   ],
   "source": [
    "# The only row of arr2 is replicated three times before the operation\n",
    "#   4  5\n",
    "#   4  5\n",
    "#   4  5\n",
    "#   4  5\n",
    "arr3 = arr2 + arr1 \n",
    "\n",
    "print(\"arr3: \\n\", arr3)"
   ]
  },
  {
   "cell_type": "markdown",
   "id": "c9c5a54f",
   "metadata": {},
   "source": [
    "### d. Arithmetic of two 2-Dimensional Arrays"
   ]
  },
  {
   "cell_type": "markdown",
   "id": "df0990af",
   "metadata": {},
   "source": [
    "**Example 1:** Consider adding elements of a 2-D array (2x3) with another 2-D array (3x1)"
   ]
  },
  {
   "cell_type": "code",
   "execution_count": 10,
   "id": "10440087",
   "metadata": {},
   "outputs": [
    {
     "name": "stdout",
     "output_type": "stream",
     "text": [
      "arr1:\n",
      " [[5 3 2]\n",
      " [3 4 5]\n",
      " [7 1 4]]\n",
      "arr1.shape:  (3, 3)\n",
      "arr2:\n",
      " [[100]\n",
      " [200]\n",
      " [300]]\n",
      "arr2.shape:  (3, 1)\n"
     ]
    }
   ],
   "source": [
    "arr1 = np.array([[5, 3, 2],[3, 4, 5], [7, 1, 4]])\n",
    "print(\"arr1:\\n\", arr1)\n",
    "print(\"arr1.shape: \", arr1.shape)\n",
    "\n",
    "arr2 = np.array([[100], [200], [300]])\n",
    "print(\"arr2:\\n\", arr2)\n",
    "print(\"arr2.shape: \", arr2.shape)"
   ]
  },
  {
   "cell_type": "code",
   "execution_count": 11,
   "id": "182ab99a",
   "metadata": {},
   "outputs": [
    {
     "name": "stdout",
     "output_type": "stream",
     "text": [
      "arr3: \n",
      " [[105 103 102]\n",
      " [203 204 205]\n",
      " [307 301 304]]\n"
     ]
    }
   ],
   "source": [
    "# The only column of arr2 is replicated twice before the operation\n",
    "#   100   100   100\n",
    "#   200   200   300\n",
    "#   300   300   300\n",
    "\n",
    "arr3 = arr1 + arr2 \n",
    "\n",
    "print(\"arr3: \\n\", arr3)"
   ]
  },
  {
   "cell_type": "markdown",
   "id": "c651f0ef",
   "metadata": {},
   "source": [
    "**Points to Ponder in Arithmetic and Broadcasting:**\n",
    ">- Arithmetic between elements of two numPy arrays works fine if both the arrays are of same shape.\n",
    ">- Arithmetic between a numPy array and a scalar value works fine due to broadcasting.\n",
    ">- Arithmetic between elements of two numPy arrays with different dimensions will work, if and only if the array with smaller dimension can be replicated to match the shape of other array (as in above examples)"
   ]
  },
  {
   "cell_type": "markdown",
   "id": "1188f96d",
   "metadata": {},
   "source": [
    "**Example 1: Broadcast Error**"
   ]
  },
  {
   "cell_type": "code",
   "execution_count": 12,
   "id": "69240490",
   "metadata": {},
   "outputs": [
    {
     "name": "stdout",
     "output_type": "stream",
     "text": [
      "arr1:\n",
      " [[1 2 3]\n",
      " [1 2 3]]\n",
      "arr1.shape:  (2, 3)\n",
      "arr2:\n",
      " [1 2]\n",
      "arr2.shape:  (2,)\n"
     ]
    }
   ],
   "source": [
    "# Consider adding a 2-D array (2x3) to a 1-D array with 2 values\n",
    "arr1 = np.array([[1, 2, 3], [1, 2, 3]])\n",
    "arr2 = np.array([1,2])\n",
    "print(\"arr1:\\n\", arr1)\n",
    "print(\"arr1.shape: \", arr1.shape)\n",
    "print(\"arr2:\\n\", arr2)\n",
    "print(\"arr2.shape: \", arr2.shape)"
   ]
  },
  {
   "cell_type": "code",
   "execution_count": 13,
   "id": "e35edb35",
   "metadata": {},
   "outputs": [
    {
     "ename": "ValueError",
     "evalue": "operands could not be broadcast together with shapes (2,3) (2,) ",
     "output_type": "error",
     "traceback": [
      "\u001b[1;31m---------------------------------------------------------------------------\u001b[0m",
      "\u001b[1;31mValueError\u001b[0m                                Traceback (most recent call last)",
      "Cell \u001b[1;32mIn[13], line 4\u001b[0m\n\u001b[0;32m      1\u001b[0m \u001b[38;5;66;03m# Since arr2 cannot be replicated to match the shape of arr1,\u001b[39;00m\n\u001b[0;32m      2\u001b[0m \u001b[38;5;66;03m# (last dimension of `arr1` i.e., 3 does not match with the first dimension of `arr2` i.e., 2)\u001b[39;00m\n\u001b[0;32m      3\u001b[0m \u001b[38;5;66;03m# therefore, broadcasting is unsuccessful and will flag an error\u001b[39;00m\n\u001b[1;32m----> 4\u001b[0m arr3 \u001b[38;5;241m=\u001b[39m arr1 \u001b[38;5;241m+\u001b[39m arr2 \n\u001b[0;32m      6\u001b[0m \u001b[38;5;28mprint\u001b[39m(\u001b[38;5;124m\"\u001b[39m\u001b[38;5;124marr3: \u001b[39m\u001b[38;5;130;01m\\n\u001b[39;00m\u001b[38;5;124m\"\u001b[39m, arr3)\n",
      "\u001b[1;31mValueError\u001b[0m: operands could not be broadcast together with shapes (2,3) (2,) "
     ]
    }
   ],
   "source": [
    "# Since arr2 cannot be replicated to match the shape of arr1,\n",
    "# (last dimension of `arr1` i.e., 3 does not match with the first dimension of `arr2` i.e., 2)\n",
    "# therefore, broadcasting is unsuccessful and will flag an error\n",
    "arr3 = arr1 + arr2 \n",
    "\n",
    "print(\"arr3: \\n\", arr3)"
   ]
  },
  {
   "cell_type": "markdown",
   "id": "d824b817",
   "metadata": {},
   "source": [
    "**Example 2: Broadcast Error**"
   ]
  },
  {
   "cell_type": "code",
   "execution_count": 14,
   "id": "1fc34edb",
   "metadata": {},
   "outputs": [
    {
     "name": "stdout",
     "output_type": "stream",
     "text": [
      "arr1:\n",
      " [[1 2]\n",
      " [3 4]\n",
      " [5 6]\n",
      " [7 8]]\n",
      "arr1.shape:  (4, 2)\n",
      "arr2:\n",
      " [[4]\n",
      " [5]\n",
      " [6]\n",
      " [5]]\n",
      "arr2.shape:  (4, 1)\n"
     ]
    }
   ],
   "source": [
    "# Consider adding a 2-D array (2x3) to a 1-D array with 2 values\n",
    "arr1 = np.array([[1, 2], [3, 4], [5, 6], [7, 8]])\n",
    "print(\"arr1:\\n\", arr1)\n",
    "print(\"arr1.shape: \", arr1.shape)\n",
    "\n",
    "\n",
    "arr2 = np.array([[4], [5], [6], [5]])\n",
    "print(\"arr2:\\n\", arr2)\n",
    "print(\"arr2.shape: \", arr2.shape)"
   ]
  },
  {
   "cell_type": "code",
   "execution_count": 15,
   "id": "67d7e845",
   "metadata": {},
   "outputs": [
    {
     "name": "stdout",
     "output_type": "stream",
     "text": [
      "arr3: \n",
      " [[ 5  6]\n",
      " [ 8  9]\n",
      " [11 12]\n",
      " [12 13]]\n"
     ]
    }
   ],
   "source": [
    "# Since arr2 cannot be replicated to match the shape of arr1,\n",
    "# (last dimension of `arr1` i.e., 2 does not match with the first dimension of `arr2` i.e., 3)\n",
    "# therefore, broadcasting is unsuccessful and will flag an error\n",
    "try:\n",
    "    arr3 = arr1 + arr2 \n",
    "    print(\"arr3: \\n\", arr3)\n",
    "except ValueError as e:\n",
    "    print(e)"
   ]
  },
  {
   "cell_type": "markdown",
   "id": "5e1e61f0",
   "metadata": {},
   "source": [
    "**Example 3: Broadcast Error**"
   ]
  },
  {
   "cell_type": "code",
   "execution_count": 16,
   "id": "1e24eb32",
   "metadata": {},
   "outputs": [
    {
     "name": "stdout",
     "output_type": "stream",
     "text": [
      "arr1:\n",
      " [[5 3 2]\n",
      " [3 4 5]\n",
      " [7 1 4]]\n",
      "arr1.shape:  (3, 3)\n",
      "arr2:\n",
      " [[100]\n",
      " [200]]\n",
      "arr2.shape:  (2, 1)\n"
     ]
    }
   ],
   "source": [
    "arr1 = np.array([[5, 3, 2],[3, 4, 5], [7, 1, 4]])\n",
    "print(\"arr1:\\n\", arr1)\n",
    "print(\"arr1.shape: \", arr1.shape)\n",
    "\n",
    "arr2 = np.array([[100], [200]])\n",
    "print(\"arr2:\\n\", arr2)\n",
    "print(\"arr2.shape: \", arr2.shape)"
   ]
  },
  {
   "cell_type": "code",
   "execution_count": 17,
   "id": "cd4f687f",
   "metadata": {},
   "outputs": [
    {
     "name": "stdout",
     "output_type": "stream",
     "text": [
      "operands could not be broadcast together with shapes (3,3) (2,1) \n"
     ]
    }
   ],
   "source": [
    "# Since arr2 cannot be replicated to match the shape of arr1,\n",
    "# (last dimension of `arr1` i.e., 3 does not match with the first dimension of `arr2` i.e., 2)\n",
    "# therefore, broadcasting is unsuccessful and will flag an error\n",
    "try:\n",
    "    arr3 = arr1 + arr2 \n",
    "    print(\"arr3: \\n\", arr3)\n",
    "except ValueError as e:\n",
    "    print(e)"
   ]
  },
  {
   "cell_type": "markdown",
   "id": "7494392a",
   "metadata": {},
   "source": [
    "## 2. Reshaping Arrays\n",
    "- Reshaping numpy array simply means changing the shape of the given array, shape basically tells the number of elements and dimension of array.\n",
    "- By reshaping an array we can add or remove dimensions or change number of elements in each dimension.\n",
    "- There are different ways that reshape numPy arrays:\n",
    "    - Changing the `shape` attribute (in-place operation)\n",
    "    - Use `np.reshape()` method (shallow copy)\n",
    "    - Use `np.resize()` method (deep copy)\n",
    "    - Use `ndarray.transpose()` method (shallow copy)\n",
    "    - Use `np.swapaxes()`method (shallow copy)\n",
    "    - Use `ndarray.flatten()` method (deep copy)"
   ]
  },
  {
   "cell_type": "markdown",
   "id": "32ab0cc0",
   "metadata": {},
   "source": [
    "### a. Change the `np.shape` Attribute\n",
    "- Changing the shape of an `ndarray` is as simple as setting its `shape` attribute. However, the array's size must remain the same.\n",
    "- No new array is created, rather the change of shape occurs in-place."
   ]
  },
  {
   "cell_type": "code",
   "execution_count": 18,
   "id": "9ddec588",
   "metadata": {},
   "outputs": [
    {
     "name": "stdout",
     "output_type": "stream",
     "text": [
      "arr1: [ 0  1  2  3  4  5  6  7  8  9 10 11 12 13 14 15 16 17 18 19 20 21 22 23]\n",
      "Dimensions: 1\n",
      "Shape: (24,)\n",
      "Strides: (4,)\n"
     ]
    }
   ],
   "source": [
    "import numpy as np\n",
    "arr1 = np.arange(24)\n",
    "print(\"arr1:\", arr1)\n",
    "print(\"Dimensions:\", arr1.ndim)\n",
    "print(\"Shape:\", arr1.shape)\n",
    "print(\"Strides:\", arr1.strides)"
   ]
  },
  {
   "cell_type": "code",
   "execution_count": 19,
   "id": "692e83f4",
   "metadata": {},
   "outputs": [
    {
     "name": "stdout",
     "output_type": "stream",
     "text": [
      "arr1: \n",
      " [[ 0  1  2  3]\n",
      " [ 4  5  6  7]\n",
      " [ 8  9 10 11]\n",
      " [12 13 14 15]\n",
      " [16 17 18 19]\n",
      " [20 21 22 23]]\n",
      "Dimensions: 2\n",
      "Shape: (6, 4)\n",
      "Strides: (16, 4)\n"
     ]
    }
   ],
   "source": [
    "#Changing the shape attribute (array size must remain same)\n",
    "arr1.shape = (6, 4)\n",
    "print(\"arr1: \\n\", arr1)\n",
    "print(\"Dimensions:\", arr1.ndim)\n",
    "print(\"Shape:\", arr1.shape)\n",
    "print(\"Strides:\", arr1.strides)"
   ]
  },
  {
   "cell_type": "code",
   "execution_count": 20,
   "id": "76c0369f",
   "metadata": {},
   "outputs": [
    {
     "name": "stdout",
     "output_type": "stream",
     "text": [
      "arr1: \n",
      " [[[ 0  1  2]\n",
      "  [ 3  4  5]\n",
      "  [ 6  7  8]\n",
      "  [ 9 10 11]]\n",
      "\n",
      " [[12 13 14]\n",
      "  [15 16 17]\n",
      "  [18 19 20]\n",
      "  [21 22 23]]]\n",
      "Dimensions: 3\n",
      "Shape: (2, 4, 3)\n",
      "Strides: (48, 12, 4)\n"
     ]
    }
   ],
   "source": [
    "#Changing the shape attribute (array size must remain same)\n",
    "arr1.shape = (2, 4, 3)\n",
    "print(\"arr1: \\n\", arr1)\n",
    "print(\"Dimensions:\", arr1.ndim)\n",
    "print(\"Shape:\", arr1.shape)\n",
    "print(\"Strides:\", arr1.strides)"
   ]
  },
  {
   "cell_type": "markdown",
   "id": "49b38500",
   "metadata": {},
   "source": [
    "### b. Use the `np.reshape()` Method\n",
    "\n",
    "```\n",
    "np.reshape(arr, newshape)\n",
    "```\n",
    "\n",
    "- The `np.reshape()` method takes the input array, then a tuple that defines the shape of the new array and returns a new array, which shares the same memory as the original array. You can think it as shallow copy in Python, where if you change the data in one array, the corresponding data in the other array is also modified."
   ]
  },
  {
   "cell_type": "markdown",
   "id": "07da1408",
   "metadata": {},
   "source": [
    "**Example 1:** Reshaping from 1-D numPy Arrays to 2-D numPy Arrays"
   ]
  },
  {
   "cell_type": "code",
   "execution_count": 21,
   "id": "0e3c6adc",
   "metadata": {},
   "outputs": [
    {
     "name": "stdout",
     "output_type": "stream",
     "text": [
      "Original Array:  [1 2 3 4 5 6] \n",
      "Shape:  (6,)\n"
     ]
    }
   ],
   "source": [
    "arr1 = np.array([1, 2, 3, 4, 5, 6])\n",
    "print(\"Original Array: \", arr1, \"\\nShape: \", arr1.shape)"
   ]
  },
  {
   "cell_type": "code",
   "execution_count": 22,
   "id": "046869e6",
   "metadata": {},
   "outputs": [
    {
     "name": "stdout",
     "output_type": "stream",
     "text": [
      "Reshaped Array: \n",
      " [[1 2 3]\n",
      " [4 5 6]] \n",
      "Shape:  (2, 3)\n"
     ]
    }
   ],
   "source": [
    "# Changing the dimension of array using reshape()\n",
    "arr2 = np.reshape(arr1, (2, 3))\n",
    "print(\"Reshaped Array: \\n\", arr2, \"\\nShape: \", arr2.shape)"
   ]
  },
  {
   "cell_type": "code",
   "execution_count": 23,
   "id": "84df047d",
   "metadata": {},
   "outputs": [
    {
     "name": "stdout",
     "output_type": "stream",
     "text": [
      "Original Array:  [99  2  3  4  5  6]\n",
      "Reshaped Array: \n",
      " [[99  2  3]\n",
      " [ 4  5  6]]\n",
      "id(arr1):  1862231192368\n",
      "id(arr2):  1862218420880\n"
     ]
    }
   ],
   "source": [
    "# make change in one of the arrays, the change is reflected in both\n",
    "arr2[0][0] = 99\n",
    "print(\"Original Array: \", arr1)\n",
    "print(\"Reshaped Array: \\n\", arr2)\n",
    "print(\"id(arr1): \", id(arr1))\n",
    "print(\"id(arr2): \",id(arr2))"
   ]
  },
  {
   "cell_type": "markdown",
   "id": "dffe7c85",
   "metadata": {},
   "source": [
    "**Example 2:** Reshaping from 1-D numPy Arrays to 3-D numPy Arrays"
   ]
  },
  {
   "cell_type": "code",
   "execution_count": 24,
   "id": "b6ae4c1f",
   "metadata": {},
   "outputs": [
    {
     "name": "stdout",
     "output_type": "stream",
     "text": [
      "Original Array:  [ 1  2  3  4  5  6  7  8  9 10 11 12] \n",
      "Shape:  (12,)\n",
      "\n",
      "Reshaped Array: \n",
      " [[[ 1  2  3]\n",
      "  [ 4  5  6]]\n",
      "\n",
      " [[ 7  8  9]\n",
      "  [10 11 12]]] \n",
      "Shape:  (2, 2, 3)\n"
     ]
    }
   ],
   "source": [
    "arr1 = np.array([1, 2, 3, 4, 5, 6, 7, 8, 9, 10, 11, 12])\n",
    "print(\"Original Array: \", arr1, \"\\nShape: \", arr1.shape)\n",
    "\n",
    "arr2 = np.reshape(arr1, (2, 2, 3))\n",
    "print(\"\\nReshaped Array: \\n\", arr2, \"\\nShape: \", arr2.shape)"
   ]
  },
  {
   "cell_type": "markdown",
   "id": "45b75ac2",
   "metadata": {},
   "source": [
    "**Example 3:** Flattening Arrays. You can convert an array of an unknown dimension to a 1D array using `np.reshape(-1) `"
   ]
  },
  {
   "cell_type": "code",
   "execution_count": 25,
   "id": "ae8a7890",
   "metadata": {},
   "outputs": [
    {
     "name": "stdout",
     "output_type": "stream",
     "text": [
      "Original Array: \n",
      " [[ 1  2  3]\n",
      " [ 6  7  8]\n",
      " [ 4  5  6]\n",
      " [11 14 10]] \n",
      "Shape:  (4, 3)\n",
      "\n",
      "Reshaped Array: \n",
      " [ 1  2  3  6  7  8  4  5  6 11 14 10] \n",
      "Shape:  (12,)\n"
     ]
    }
   ],
   "source": [
    "arr1 = np.array([[1, 2, 3], [6, 7, 8], [4, 5, 6], [11, 14, 10]])\n",
    "print(\"Original Array: \\n\", arr1, \"\\nShape: \", arr1.shape)\n",
    "\n",
    "arr2 = np.reshape(arr1, (-1))\n",
    "print(\"\\nReshaped Array: \\n\", arr2, \"\\nShape: \", arr2.shape)"
   ]
  },
  {
   "cell_type": "markdown",
   "id": "2bbb0874",
   "metadata": {},
   "source": [
    "**Example 4:** Reshaping an array back to its original dimensions. If you applied the `np.reshape()` method to an array and you want to get the original shape of the array back, you can call the reshape method on that array again."
   ]
  },
  {
   "cell_type": "code",
   "execution_count": 26,
   "id": "9c9b67fb",
   "metadata": {},
   "outputs": [
    {
     "name": "stdout",
     "output_type": "stream",
     "text": [
      "Original Array: \n",
      " [[ 1  2  3]\n",
      " [ 6  7  8]\n",
      " [ 4  5  6]\n",
      " [11 14 10]] \n",
      "Shape:  (4, 3)\n",
      "\n",
      "Reshaped Array: \n",
      " [[ 1  2  3  6  7  8]\n",
      " [ 4  5  6 11 14 10]] \n",
      "Shape:  (2, 6)\n",
      "\n",
      "Reshaped to Original Shape: \n",
      " [[ 1  2  3]\n",
      " [ 6  7  8]\n",
      " [ 4  5  6]\n",
      " [11 14 10]] \n",
      "Shape:  (4, 3)\n"
     ]
    }
   ],
   "source": [
    "arr1 = np.array([[1, 2, 3], [6, 7, 8], [4, 5, 6], [11, 14, 10]])\n",
    "print(\"Original Array: \\n\", arr1, \"\\nShape: \", arr1.shape)\n",
    "\n",
    "arr2 = np.reshape(arr1, (2, 6))\n",
    "print(\"\\nReshaped Array: \\n\", arr2, \"\\nShape: \", arr2.shape)\n",
    "\n",
    "# covert the array into original shape again\n",
    "arr3 = np.reshape(arr2, (4,3))\n",
    "print(\"\\nReshaped to Original Shape: \\n\", arr3, \"\\nShape: \", arr3.shape)"
   ]
  },
  {
   "cell_type": "markdown",
   "id": "94ec61b2",
   "metadata": {},
   "source": [
    "**Example 5:** You can reshape to any shape, the only requirement is that the total elements in both the arrays should be same"
   ]
  },
  {
   "cell_type": "code",
   "execution_count": 27,
   "id": "87a7f813",
   "metadata": {},
   "outputs": [
    {
     "ename": "ValueError",
     "evalue": "cannot reshape array of size 9 into shape (3,2)",
     "output_type": "error",
     "traceback": [
      "\u001b[1;31m---------------------------------------------------------------------------\u001b[0m",
      "\u001b[1;31mValueError\u001b[0m                                Traceback (most recent call last)",
      "Cell \u001b[1;32mIn[27], line 2\u001b[0m\n\u001b[0;32m      1\u001b[0m arr1 \u001b[38;5;241m=\u001b[39m np\u001b[38;5;241m.\u001b[39marray([\u001b[38;5;241m1\u001b[39m, \u001b[38;5;241m2\u001b[39m, \u001b[38;5;241m3\u001b[39m, \u001b[38;5;241m4\u001b[39m, \u001b[38;5;241m5\u001b[39m, \u001b[38;5;241m6\u001b[39m, \u001b[38;5;241m7\u001b[39m, \u001b[38;5;241m8\u001b[39m, \u001b[38;5;241m9\u001b[39m])\n\u001b[1;32m----> 2\u001b[0m arr2 \u001b[38;5;241m=\u001b[39m np\u001b[38;5;241m.\u001b[39mreshape(arr1, (\u001b[38;5;241m3\u001b[39m, \u001b[38;5;241m2\u001b[39m))\n\u001b[0;32m      3\u001b[0m arr2\n",
      "File \u001b[1;32m~\\anaconda3\\Lib\\site-packages\\numpy\\core\\fromnumeric.py:285\u001b[0m, in \u001b[0;36mreshape\u001b[1;34m(a, newshape, order)\u001b[0m\n\u001b[0;32m    200\u001b[0m \u001b[38;5;129m@array_function_dispatch\u001b[39m(_reshape_dispatcher)\n\u001b[0;32m    201\u001b[0m \u001b[38;5;28;01mdef\u001b[39;00m \u001b[38;5;21mreshape\u001b[39m(a, newshape, order\u001b[38;5;241m=\u001b[39m\u001b[38;5;124m'\u001b[39m\u001b[38;5;124mC\u001b[39m\u001b[38;5;124m'\u001b[39m):\n\u001b[0;32m    202\u001b[0m \u001b[38;5;250m    \u001b[39m\u001b[38;5;124;03m\"\"\"\u001b[39;00m\n\u001b[0;32m    203\u001b[0m \u001b[38;5;124;03m    Gives a new shape to an array without changing its data.\u001b[39;00m\n\u001b[0;32m    204\u001b[0m \n\u001b[1;32m   (...)\u001b[0m\n\u001b[0;32m    283\u001b[0m \u001b[38;5;124;03m           [5, 6]])\u001b[39;00m\n\u001b[0;32m    284\u001b[0m \u001b[38;5;124;03m    \"\"\"\u001b[39;00m\n\u001b[1;32m--> 285\u001b[0m     \u001b[38;5;28;01mreturn\u001b[39;00m _wrapfunc(a, \u001b[38;5;124m'\u001b[39m\u001b[38;5;124mreshape\u001b[39m\u001b[38;5;124m'\u001b[39m, newshape, order\u001b[38;5;241m=\u001b[39morder)\n",
      "File \u001b[1;32m~\\anaconda3\\Lib\\site-packages\\numpy\\core\\fromnumeric.py:59\u001b[0m, in \u001b[0;36m_wrapfunc\u001b[1;34m(obj, method, *args, **kwds)\u001b[0m\n\u001b[0;32m     56\u001b[0m     \u001b[38;5;28;01mreturn\u001b[39;00m _wrapit(obj, method, \u001b[38;5;241m*\u001b[39margs, \u001b[38;5;241m*\u001b[39m\u001b[38;5;241m*\u001b[39mkwds)\n\u001b[0;32m     58\u001b[0m \u001b[38;5;28;01mtry\u001b[39;00m:\n\u001b[1;32m---> 59\u001b[0m     \u001b[38;5;28;01mreturn\u001b[39;00m bound(\u001b[38;5;241m*\u001b[39margs, \u001b[38;5;241m*\u001b[39m\u001b[38;5;241m*\u001b[39mkwds)\n\u001b[0;32m     60\u001b[0m \u001b[38;5;28;01mexcept\u001b[39;00m \u001b[38;5;167;01mTypeError\u001b[39;00m:\n\u001b[0;32m     61\u001b[0m     \u001b[38;5;66;03m# A TypeError occurs if the object does have such a method in its\u001b[39;00m\n\u001b[0;32m     62\u001b[0m     \u001b[38;5;66;03m# class, but its signature is not identical to that of NumPy's. This\u001b[39;00m\n\u001b[1;32m   (...)\u001b[0m\n\u001b[0;32m     66\u001b[0m     \u001b[38;5;66;03m# Call _wrapit from within the except clause to ensure a potential\u001b[39;00m\n\u001b[0;32m     67\u001b[0m     \u001b[38;5;66;03m# exception has a traceback chain.\u001b[39;00m\n\u001b[0;32m     68\u001b[0m     \u001b[38;5;28;01mreturn\u001b[39;00m _wrapit(obj, method, \u001b[38;5;241m*\u001b[39margs, \u001b[38;5;241m*\u001b[39m\u001b[38;5;241m*\u001b[39mkwds)\n",
      "\u001b[1;31mValueError\u001b[0m: cannot reshape array of size 9 into shape (3,2)"
     ]
    }
   ],
   "source": [
    "arr1 = np.array([1, 2, 3, 4, 5, 6, 7, 8, 9])\n",
    "arr2 = np.reshape(arr1, (3, 2))\n",
    "arr2"
   ]
  },
  {
   "cell_type": "markdown",
   "id": "8b2e1617",
   "metadata": {},
   "source": [
    "### c.  Use `np.resize()` Method\n",
    "```\n",
    "np.resize(arr, newshape)\n",
    "```\n",
    "- Like `np.reshape()` method, the `np.resize()` method also takes the input array and a tuple that defines the shape of the array, with one main difference and that is:\n",
    "    - If the `newshape` argument mismatch with the size of `arr`, it do not raise error. The new array is formed from the data in the old array, repeated if necessary to fill out the required number of elements.  "
   ]
  },
  {
   "cell_type": "markdown",
   "id": "a4d0d83c",
   "metadata": {},
   "source": [
    "**Example 1:** Resizing from 1-D numPy Arrays to 2-D numPy Arrays. The new array doesn’t share the same memory with the original array. The data change in one array is not mapped to the other."
   ]
  },
  {
   "cell_type": "code",
   "execution_count": 28,
   "id": "0ab3c202",
   "metadata": {},
   "outputs": [
    {
     "name": "stdout",
     "output_type": "stream",
     "text": [
      "Original Array:  [1 2 3 4 5 6] \n",
      "Shape:  (6,)\n"
     ]
    }
   ],
   "source": [
    "arr1 = np.array([1, 2, 3, 4, 5, 6])\n",
    "print(\"Original Array: \", arr1, \"\\nShape: \", arr1.shape)"
   ]
  },
  {
   "cell_type": "code",
   "execution_count": 29,
   "id": "b99e6eb1",
   "metadata": {},
   "outputs": [
    {
     "name": "stdout",
     "output_type": "stream",
     "text": [
      "Resized Array: \n",
      " [[1 2 3]\n",
      " [4 5 6]] \n",
      "Shape:  (2, 3)\n"
     ]
    }
   ],
   "source": [
    "# Changing the dimension of array using reshape()\n",
    "arr2 = np.resize(arr1, (2, 3))\n",
    "print(\"Resized Array: \\n\", arr2, \"\\nShape: \", arr2.shape)"
   ]
  },
  {
   "cell_type": "code",
   "execution_count": 30,
   "id": "7fad9f62",
   "metadata": {},
   "outputs": [
    {
     "name": "stdout",
     "output_type": "stream",
     "text": [
      "Original Array:  [1 2 3 4 5 6]\n",
      "Resized Array: \n",
      " [[99  2  3]\n",
      " [ 4  5  6]]\n",
      "id(arr1):  1862237704464\n",
      "id(arr2):  1862237707056\n"
     ]
    }
   ],
   "source": [
    "# make change in one of the arrays, the change is NOT reflected in both\n",
    "arr2[0][0] = 99\n",
    "print(\"Original Array: \", arr1)\n",
    "print(\"Resized Array: \\n\", arr2)\n",
    "print(\"id(arr1): \", id(arr1))\n",
    "print(\"id(arr2): \",id(arr2))"
   ]
  },
  {
   "cell_type": "markdown",
   "id": "e89ceefa",
   "metadata": {},
   "source": [
    "**Example 2:** The `np.resize()` method allows you to resize an array to a new array having larger size than the original array. In this scenario, it fills the remaining array with repeated copies of original array elements"
   ]
  },
  {
   "cell_type": "code",
   "execution_count": 31,
   "id": "03c6399a",
   "metadata": {},
   "outputs": [
    {
     "name": "stdout",
     "output_type": "stream",
     "text": [
      "Original Array:  [1 2 3 4 5 6] \n",
      "Shape:  (6,)\n"
     ]
    }
   ],
   "source": [
    "arr1 = np.array([1, 2, 3, 4, 5, 6])\n",
    "print(\"Original Array: \", arr1, \"\\nShape: \", arr1.shape)"
   ]
  },
  {
   "cell_type": "code",
   "execution_count": 32,
   "id": "c6269d25",
   "metadata": {},
   "outputs": [
    {
     "name": "stdout",
     "output_type": "stream",
     "text": [
      "\n",
      "Resized Array: \n",
      " [[1 2 3 4]\n",
      " [5 6 1 2]\n",
      " [3 4 5 6]\n",
      " [1 2 3 4]] \n",
      "Shape:  (4, 4)\n"
     ]
    }
   ],
   "source": [
    "arr2 = np.resize(arr1, (4,4))\n",
    "print(\"\\nResized Array: \\n\", arr2, \"\\nShape: \", arr2.shape)"
   ]
  },
  {
   "cell_type": "markdown",
   "id": "4b3e3b28",
   "metadata": {},
   "source": [
    "**Example 3:** The `np.resize()` method allows you to resize an array to a new array having smaller size than the original array."
   ]
  },
  {
   "cell_type": "code",
   "execution_count": 33,
   "id": "63e4c2c7",
   "metadata": {},
   "outputs": [
    {
     "name": "stdout",
     "output_type": "stream",
     "text": [
      "Original Array:  [1 2 3 4 5 6 7 8] \n",
      "Shape:  (8,)\n"
     ]
    }
   ],
   "source": [
    "arr1 = np.array([1, 2, 3, 4, 5, 6, 7, 8])\n",
    "print(\"Original Array: \", arr1, \"\\nShape: \", arr1.shape)"
   ]
  },
  {
   "cell_type": "code",
   "execution_count": 34,
   "id": "45c79d08",
   "metadata": {},
   "outputs": [
    {
     "name": "stdout",
     "output_type": "stream",
     "text": [
      "\n",
      "Resized Array: \n",
      " [[1 2]\n",
      " [3 4]\n",
      " [5 6]] \n",
      "Shape:  (3, 2)\n"
     ]
    }
   ],
   "source": [
    "arr2 = np.resize(arr1, (3, 2))\n",
    "print(\"\\nResized Array: \\n\", arr2, \"\\nShape: \", arr2.shape)"
   ]
  },
  {
   "cell_type": "markdown",
   "id": "5f8e1f7c",
   "metadata": {},
   "source": [
    "### d. The `ndarray.transpose()` Method\n",
    "```\n",
    "ndarray.transpose()\n",
    "```\n",
    "- It has no impact on 1-D array\n",
    "- For a 2-D array, this is a standard matrix transpose.\n",
    "- For an n-D array, if axes are given, their order indicates how the axes are permuted\n",
    "- Returns a view of the array with axes transposed, so this is an in-place operation."
   ]
  },
  {
   "cell_type": "code",
   "execution_count": 35,
   "id": "5e407a2d",
   "metadata": {},
   "outputs": [
    {
     "name": "stdout",
     "output_type": "stream",
     "text": [
      "Original Array: \n",
      " [[1 2 3 4]\n",
      " [5 6 7 8]] \n",
      "Shape:  (2, 4)\n",
      "\n",
      "Transposed array: \n",
      " [[1 5]\n",
      " [2 6]\n",
      " [3 7]\n",
      " [4 8]] \n",
      "Shape:  (4, 2)\n",
      "\n",
      "Original Array: \n",
      " [[ 1  2  3  4]\n",
      " [ 5 99  7  8]]\n",
      "Transposed Array: \n",
      " [[ 1  5]\n",
      " [ 2 99]\n",
      " [ 3  7]\n",
      " [ 4  8]]\n"
     ]
    }
   ],
   "source": [
    "arr1 = np.array([[1, 2, 3, 4], [5, 6, 7, 8]])\n",
    "print(\"Original Array: \\n\", arr1, \"\\nShape: \", arr1.shape)\n",
    "\n",
    "#Reshape array using transpose method\n",
    "arr2 = arr1.transpose()\n",
    "print(\"\\nTransposed array: \\n\", arr2,  \"\\nShape: \", arr2.shape)\n",
    "\n",
    "## make change in one of the arrays, the change is reflected in both\n",
    "arr2[1][1] = 99\n",
    "print(\"\\nOriginal Array: \\n\", arr1)\n",
    "print(\"Transposed Array: \\n\", arr2)"
   ]
  },
  {
   "cell_type": "markdown",
   "id": "093dc697",
   "metadata": {},
   "source": [
    "### e. The `np.swapaxes()` Method\n",
    "- The `np.swapaxes()` method is used to interchange two axes of an array.\n",
    "```\n",
    "np.swapaxes(arr, axis1, axis2)\n",
    "```\n",
    "    - `arr`: Input array whose axes are to be swapped\n",
    "    - `axis1`: First axis\n",
    "    - `axis2`: Second axis\n",
    "\n",
    "- For NumPy >= 1.10.0, if `arr` is an ndarray, then a view of `arr` is returned."
   ]
  },
  {
   "cell_type": "markdown",
   "id": "eb183fcd",
   "metadata": {},
   "source": [
    "**Example 1:** Swapping axes of a 2-D array"
   ]
  },
  {
   "cell_type": "code",
   "execution_count": 36,
   "id": "76e10f42",
   "metadata": {},
   "outputs": [
    {
     "name": "stdout",
     "output_type": "stream",
     "text": [
      "Original Array: \n",
      " [[0 1 2 3]\n",
      " [4 5 6 7]] \n",
      "Shape:  (2, 4)\n"
     ]
    }
   ],
   "source": [
    "arr1 = np.arange(8).reshape(2,4) \n",
    "print(\"Original Array: \\n\", arr1, \"\\nShape: \", arr1.shape)"
   ]
  },
  {
   "cell_type": "code",
   "execution_count": 37,
   "id": "2d196d85",
   "metadata": {},
   "outputs": [
    {
     "name": "stdout",
     "output_type": "stream",
     "text": [
      "\n",
      "New array: \n",
      " [[0 4]\n",
      " [1 5]\n",
      " [2 6]\n",
      " [3 7]] \n",
      "Shape:  (4, 2)\n"
     ]
    }
   ],
   "source": [
    "#Reshape array using swapaxes() method\n",
    "arr2 = np.swapaxes(arr1,0, 1)\n",
    "print(\"\\nNew array: \\n\", arr2,  \"\\nShape: \", arr2.shape)"
   ]
  },
  {
   "cell_type": "code",
   "execution_count": 38,
   "id": "c1980410",
   "metadata": {},
   "outputs": [
    {
     "name": "stdout",
     "output_type": "stream",
     "text": [
      "\n",
      "Original Array: \n",
      " [[ 0  1  2  3]\n",
      " [ 4 99  6  7]]\n",
      "\n",
      "New Array: \n",
      " [[ 0  4]\n",
      " [ 1 99]\n",
      " [ 2  6]\n",
      " [ 3  7]]\n"
     ]
    }
   ],
   "source": [
    "## make change in one of the arrays, the change is reflected in both\n",
    "arr2[1][1] = 99\n",
    "print(\"\\nOriginal Array: \\n\", arr1)\n",
    "print(\"\\nNew Array: \\n\", arr2)"
   ]
  },
  {
   "cell_type": "markdown",
   "id": "01515efd",
   "metadata": {},
   "source": [
    "**Example 2:** Swapping axes of a 3-D array"
   ]
  },
  {
   "cell_type": "code",
   "execution_count": 39,
   "id": "32c3c7a8",
   "metadata": {},
   "outputs": [
    {
     "name": "stdout",
     "output_type": "stream",
     "text": [
      "Original Array: \n",
      " [[[0 1]\n",
      "  [2 3]]\n",
      "\n",
      " [[4 5]\n",
      "  [6 7]]] \n",
      "Shape:  (2, 2, 2)\n"
     ]
    }
   ],
   "source": [
    "arr1 = np.arange(8).reshape(2,2,2) \n",
    "print(\"Original Array: \\n\", arr1, \"\\nShape: \", arr1.shape)"
   ]
  },
  {
   "cell_type": "code",
   "execution_count": 40,
   "id": "f156b03b",
   "metadata": {},
   "outputs": [
    {
     "name": "stdout",
     "output_type": "stream",
     "text": [
      "\n",
      "New array: \n",
      " [[[0 2]\n",
      "  [1 3]]\n",
      "\n",
      " [[4 6]\n",
      "  [5 7]]] \n",
      "Shape:  (2, 2, 2)\n"
     ]
    }
   ],
   "source": [
    "#Reshape array using swapaxes() method\n",
    "arr2 = np.swapaxes(arr1,1, 2)\n",
    "print(\"\\nNew array: \\n\", arr2,  \"\\nShape: \", arr2.shape)"
   ]
  },
  {
   "cell_type": "markdown",
   "id": "d514bdfc",
   "metadata": {},
   "source": [
    "### f. The `ndarray.flatten()` Method\n",
    "- The `ndarry.flatten()` method is used to flatten a Multi-Dimensional array/matrix to one dimension. \n",
    "```\n",
    "ndarray.flatten(order= 'C')\n",
    "```\n",
    "   - Default order is 'C’, means to flatten in row-major order. \n",
    "   - You can pass ‘F’ (FORTRAN) means to flatten in column-major.\n",
    "- Returns a copy of the array, flattened to one dimension."
   ]
  },
  {
   "cell_type": "code",
   "execution_count": 41,
   "id": "feaddafa",
   "metadata": {},
   "outputs": [
    {
     "name": "stdout",
     "output_type": "stream",
     "text": [
      "Original Array: \n",
      " [[ 0  1  2]\n",
      " [ 3  4  5]\n",
      " [ 6  7  8]\n",
      " [ 9 10 11]] \n",
      "Dimensions:  2\n"
     ]
    }
   ],
   "source": [
    "arr1 = np.arange(12).reshape(4,3) \n",
    "print(\"Original Array: \\n\", arr1, \"\\nDimensions: \", arr1.ndim)"
   ]
  },
  {
   "cell_type": "code",
   "execution_count": 42,
   "id": "ccfaf430",
   "metadata": {},
   "outputs": [
    {
     "name": "stdout",
     "output_type": "stream",
     "text": [
      "\n",
      "Flattened array in row major order \n",
      " [ 0  1  2  3  4  5  6  7  8  9 10 11] \n",
      "Dimensions:  1\n",
      "\n",
      "Flattened array in cloumn major order \n",
      " [ 0  3  6  9  1  4  7 10  2  5  8 11] \n",
      "Dimensions:  1\n"
     ]
    }
   ],
   "source": [
    "# flatten the array in row-major order\n",
    "arr2 = arr1.flatten(order = 'C')\n",
    "print(\"\\nFlattened array in row major order \\n\", arr2, \"\\nDimensions: \", arr2.ndim)\n",
    "\n",
    "# flatten the array in column-major order\n",
    "arr3 = arr1.flatten(order = 'F')\n",
    "print(\"\\nFlattened array in cloumn major order \\n\", arr3, \"\\nDimensions: \", arr3.ndim)"
   ]
  },
  {
   "cell_type": "markdown",
   "id": "3eaaeab6",
   "metadata": {},
   "source": [
    "## 3. Sorting Arrays using `np.sort()` Method\n",
    "- The `np.sort()` method returns a sorted copy of an array.\n",
    "- If axis is not specified, values can be of any shape and will be flattened before use\n",
    "```\n",
    "np.sort(arr1, axis=-1, kind=None)\n",
    "```\n",
    "    - `arr` : Array to be sorted.\n",
    "    - `axis` : Axis along which we need array to be started. The default is -1, which sorts along the last axis. 0 stands for sorting along first axis. If metioned None, the array is flattened before sorting.\n",
    "    - `kind` : default is 'quicksort', others can be 'mergesort', 'heapsort'"
   ]
  },
  {
   "cell_type": "markdown",
   "id": "81262fcf",
   "metadata": {},
   "source": [
    "### a. Sorting a 1-D Array"
   ]
  },
  {
   "cell_type": "code",
   "execution_count": 43,
   "id": "d9a041db",
   "metadata": {},
   "outputs": [
    {
     "name": "stdout",
     "output_type": "stream",
     "text": [
      "arr1 =  [50 51 31 92 97]\n"
     ]
    }
   ],
   "source": [
    "import numpy as np\n",
    "arr1 = np.random.randint(low = 1, high = 100, size = 5)\n",
    "print(\"arr1 = \", arr1)"
   ]
  },
  {
   "cell_type": "code",
   "execution_count": 44,
   "id": "deef6f22",
   "metadata": {},
   "outputs": [
    {
     "name": "stdout",
     "output_type": "stream",
     "text": [
      "arr2 =  [31 50 51 92 97]\n"
     ]
    }
   ],
   "source": [
    "arr2 = np.sort(arr1)\n",
    "print(\"arr2 = \", arr2)"
   ]
  },
  {
   "cell_type": "markdown",
   "id": "791d8537",
   "metadata": {},
   "source": [
    "### b. Sorting a 2-D Array"
   ]
  },
  {
   "cell_type": "markdown",
   "id": "14e9a50f",
   "metadata": {},
   "source": [
    "**Example 1:** Sorting a 2-D array with `axis=None`, array is flattened before sorting"
   ]
  },
  {
   "cell_type": "code",
   "execution_count": 45,
   "id": "ff2f4f38",
   "metadata": {},
   "outputs": [
    {
     "name": "stdout",
     "output_type": "stream",
     "text": [
      "arr1: \n",
      " [[16 78 68]\n",
      " [43 21 38]\n",
      " [26 92 77]]\n"
     ]
    }
   ],
   "source": [
    "arr1 = np.random.randint(low = 1, high = 100, size = (3,3))\n",
    "print(\"arr1: \\n\", arr1)"
   ]
  },
  {
   "cell_type": "code",
   "execution_count": 46,
   "id": "4e887b13",
   "metadata": {},
   "outputs": [
    {
     "name": "stdout",
     "output_type": "stream",
     "text": [
      "\n",
      "Sorting along axis=None: \n",
      " [16 21 26 38 43 68 77 78 92]\n"
     ]
    }
   ],
   "source": [
    "arr2 = np.sort(arr1, axis = None)        \n",
    "print (\"\\nSorting along axis=None: \\n\", arr2)"
   ]
  },
  {
   "cell_type": "markdown",
   "id": "666addfa",
   "metadata": {},
   "source": [
    "**Example 2:** Sorting a 2-D array with `axis=0`, vertical axis, top to bottom"
   ]
  },
  {
   "cell_type": "code",
   "execution_count": 47,
   "id": "d271af63",
   "metadata": {},
   "outputs": [
    {
     "name": "stdout",
     "output_type": "stream",
     "text": [
      "arr1 = \n",
      " [[7 2 8]\n",
      " [7 2 6]\n",
      " [6 5 3]]\n"
     ]
    }
   ],
   "source": [
    "arr1 = np.random.randint(low = 1, high = 10, size = (3,3))\n",
    "print(\"arr1 = \\n\", arr1)"
   ]
  },
  {
   "cell_type": "code",
   "execution_count": 48,
   "id": "de11180e",
   "metadata": {},
   "outputs": [
    {
     "name": "stdout",
     "output_type": "stream",
     "text": [
      "\n",
      "Sorting along axis=0: \n",
      " [[6 2 3]\n",
      " [7 2 6]\n",
      " [7 5 8]]\n"
     ]
    }
   ],
   "source": [
    "arr2 = np.sort(arr1, axis = 0)        \n",
    "print (\"\\nSorting along axis=0: \\n\", arr2)      "
   ]
  },
  {
   "cell_type": "markdown",
   "id": "1315698b",
   "metadata": {},
   "source": [
    "**Example 3:** Sorting a 2-D array with `axis=1`, horizontal axis, left to right"
   ]
  },
  {
   "cell_type": "code",
   "execution_count": 49,
   "id": "4a1c96be",
   "metadata": {},
   "outputs": [
    {
     "name": "stdout",
     "output_type": "stream",
     "text": [
      "arr1 = \n",
      " [[5 3 8]\n",
      " [4 9 2]\n",
      " [8 4 7]]\n"
     ]
    }
   ],
   "source": [
    "arr1 = np.random.randint(low = 1, high = 10, size = (3,3))\n",
    "print(\"arr1 = \\n\", arr1)"
   ]
  },
  {
   "cell_type": "code",
   "execution_count": 50,
   "id": "e469a9ba",
   "metadata": {},
   "outputs": [
    {
     "name": "stdout",
     "output_type": "stream",
     "text": [
      "\n",
      "Sorting along axis=1: \n",
      " [[3 5 8]\n",
      " [2 4 9]\n",
      " [4 7 8]]\n"
     ]
    }
   ],
   "source": [
    "arr2 = np.sort(arr1, axis = 1)        \n",
    "print (\"\\nSorting along axis=1: \\n\", arr2) "
   ]
  },
  {
   "cell_type": "markdown",
   "id": "337a26a6",
   "metadata": {},
   "source": [
    "## 4. Iterating numPy Arrays\n",
    "- Iterating over `ndarrays` is very similar to iterating over regular python arrays. \n",
    "- Remember, iterating over multidimensional arrays is done with respect to the first axis."
   ]
  },
  {
   "cell_type": "markdown",
   "id": "cc2536b3",
   "metadata": {},
   "source": [
    "**Example 1:** Iterating over 1-D numPy array"
   ]
  },
  {
   "cell_type": "code",
   "execution_count": 51,
   "id": "ac0b0562",
   "metadata": {},
   "outputs": [
    {
     "data": {
      "text/plain": [
       "array([ 0,  1,  2,  3,  4,  5,  6,  7,  8,  9, 10, 11])"
      ]
     },
     "execution_count": 51,
     "metadata": {},
     "output_type": "execute_result"
    }
   ],
   "source": [
    "arr1 = np.arange(12)\n",
    "arr1"
   ]
  },
  {
   "cell_type": "code",
   "execution_count": 52,
   "id": "ef4e70d1",
   "metadata": {},
   "outputs": [
    {
     "name": "stdout",
     "output_type": "stream",
     "text": [
      "0 1 2 3 4 5 6 7 8 9 10 11 "
     ]
    }
   ],
   "source": [
    "for value in arr1:\n",
    "    print(value, end=' ')"
   ]
  },
  {
   "cell_type": "markdown",
   "id": "7d5ccb09",
   "metadata": {},
   "source": [
    "**Example 2:** Iterating over 2-D numPy array is done w.r.t first axis, i.e., zero axis (column wise). In simple words in the first iteration you will get the first row, in second iteration you will get the 2nd row and so on..."
   ]
  },
  {
   "cell_type": "code",
   "execution_count": 53,
   "id": "56eb5662",
   "metadata": {},
   "outputs": [
    {
     "name": "stdout",
     "output_type": "stream",
     "text": [
      "arr1: \n",
      " [[ 0  1  2]\n",
      " [ 3  4  5]\n",
      " [ 6  7  8]\n",
      " [ 9 10 11]]\n"
     ]
    }
   ],
   "source": [
    "arr1 = np.arange(12).reshape(4, 3)\n",
    "print(\"arr1: \\n\",arr1)"
   ]
  },
  {
   "cell_type": "code",
   "execution_count": 54,
   "id": "d3e7a573",
   "metadata": {},
   "outputs": [
    {
     "name": "stdout",
     "output_type": "stream",
     "text": [
      "Iteration:\n",
      "[0 1 2]\n",
      "Iteration:\n",
      "[3 4 5]\n",
      "Iteration:\n",
      "[6 7 8]\n",
      "Iteration:\n",
      "[ 9 10 11]\n"
     ]
    }
   ],
   "source": [
    "for zero_axis in arr1:\n",
    "    print(\"Iteration:\")\n",
    "    print(zero_axis)"
   ]
  },
  {
   "cell_type": "markdown",
   "id": "bd19a3b8",
   "metadata": {},
   "source": [
    "**Example 3:** Iterating over 2-D numPy array"
   ]
  },
  {
   "cell_type": "code",
   "execution_count": 55,
   "id": "e44d5358",
   "metadata": {},
   "outputs": [
    {
     "name": "stdout",
     "output_type": "stream",
     "text": [
      "arr1: \n",
      " [[0 1 2 3]\n",
      " [4 5 6 7]]\n"
     ]
    }
   ],
   "source": [
    "arr1 = np.arange(8).reshape(2, 4)\n",
    "print(\"arr1: \\n\",arr1)"
   ]
  },
  {
   "cell_type": "code",
   "execution_count": 56,
   "id": "1ea61da8",
   "metadata": {},
   "outputs": [
    {
     "name": "stdout",
     "output_type": "stream",
     "text": [
      "Iteration:\n",
      "[0 1 2 3]\n",
      "Iteration:\n",
      "[4 5 6 7]\n"
     ]
    }
   ],
   "source": [
    "for zero_axis in arr1:\n",
    "    print(\"Iteration:\")\n",
    "    print(zero_axis)"
   ]
  },
  {
   "cell_type": "markdown",
   "id": "52c61e01",
   "metadata": {},
   "source": [
    "**Example 4:** Iterating over 3-D numPy array is done w.r.t first axis, i.e., zero axis (level wise). In simple words in the first iteration you will get the first row, in second iteration you will get the 2nd row and so on..."
   ]
  },
  {
   "cell_type": "code",
   "execution_count": 57,
   "id": "74c55b11",
   "metadata": {},
   "outputs": [
    {
     "name": "stdout",
     "output_type": "stream",
     "text": [
      "arr1: \n",
      " [[[ 0  1  2  3]\n",
      "  [ 4  5  6  7]\n",
      "  [ 8  9 10 11]]\n",
      "\n",
      " [[12 13 14 15]\n",
      "  [16 17 18 19]\n",
      "  [20 21 22 23]]]\n"
     ]
    }
   ],
   "source": [
    "arr1 = np.arange(24).reshape(2, 3, 4)\n",
    "print(\"arr1: \\n\",arr1)"
   ]
  },
  {
   "cell_type": "code",
   "execution_count": 58,
   "id": "b758ed71",
   "metadata": {},
   "outputs": [
    {
     "name": "stdout",
     "output_type": "stream",
     "text": [
      "Iteration:\n",
      "[[ 0  1  2  3]\n",
      " [ 4  5  6  7]\n",
      " [ 8  9 10 11]]\n",
      "Iteration:\n",
      "[[12 13 14 15]\n",
      " [16 17 18 19]\n",
      " [20 21 22 23]]\n"
     ]
    }
   ],
   "source": [
    "for zero_axis in arr1:\n",
    "    print(\"Iteration:\")\n",
    "    print(zero_axis)"
   ]
  },
  {
   "cell_type": "markdown",
   "id": "e20436b2",
   "metadata": {},
   "source": [
    "**Example 5:** If you want to iterate on *all* elements in the `ndarray`, simply iterate over the `flat` attribute:"
   ]
  },
  {
   "cell_type": "code",
   "execution_count": 59,
   "id": "4a59aefd",
   "metadata": {},
   "outputs": [
    {
     "name": "stdout",
     "output_type": "stream",
     "text": [
      "arr1: \n",
      " [[ 0  1  2  3]\n",
      " [ 4  5  6  7]\n",
      " [ 8  9 10 11]]\n"
     ]
    }
   ],
   "source": [
    "arr1 = np.arange(12).reshape(3, 4)\n",
    "print(\"arr1: \\n\",arr1)"
   ]
  },
  {
   "cell_type": "code",
   "execution_count": 60,
   "id": "69c8b5b7",
   "metadata": {},
   "outputs": [
    {
     "name": "stdout",
     "output_type": "stream",
     "text": [
      "0 1 2 3 4 5 6 7 8 9 10 11 "
     ]
    }
   ],
   "source": [
    "for i in arr1.flat:\n",
    "    print(i, end=' ')"
   ]
  },
  {
   "cell_type": "markdown",
   "id": "037a9072-da03-4868-ac27-eec0cd58e6b3",
   "metadata": {},
   "source": [
    "# Part-II (Manipulating Array Elements)"
   ]
  },
  {
   "cell_type": "markdown",
   "id": "fc2766bb-6860-451e-b34b-7978ef3ba368",
   "metadata": {},
   "source": [
    "## Learning agenda \n",
    "\n",
    "1. Updating existing values of NumPy array elements\n",
    "2. Append new elements to a NumPy array using np.append()\n",
    "3. Insert new elements in a NumPy array using np.insert()\n",
    "4. Delete elements of a NumPy array using np.delete()\n",
    "5. Alias vs Shallow Copy vs Deep Copy"
   ]
  },
  {
   "cell_type": "markdown",
   "id": "6d588774-9e58-4b7e-9459-9f0722abb589",
   "metadata": {},
   "source": [
    "## 1. Updating Existing Values of Numpy Array Elements"
   ]
  },
  {
   "cell_type": "markdown",
   "id": "63646b21-aba4-4244-9b35-48847099cbda",
   "metadata": {},
   "source": [
    "### a. 1-D Arrays"
   ]
  },
  {
   "cell_type": "code",
   "execution_count": 61,
   "id": "beadc7f7-a517-48a4-843e-e00cbf46ef19",
   "metadata": {},
   "outputs": [
    {
     "name": "stdout",
     "output_type": "stream",
     "text": [
      "Original Array \n",
      " [56 68  2 86 72 45 14 73 48 45]\n",
      "Updated Array \n",
      " [ 56  68 333  86  72  45  14  73  48 777]\n"
     ]
    }
   ],
   "source": [
    "arr = np.random.randint(low = 1, high = 100, size = 10)\n",
    "print(\"Original Array \\n\", arr)\n",
    "arr[2] = 333\n",
    "arr[-1] = 777\n",
    "print(\"Updated Array \\n\", arr)"
   ]
  },
  {
   "cell_type": "markdown",
   "id": "7213fd35-8d4e-47aa-aac6-bac8ecb57b39",
   "metadata": {},
   "source": [
    "### b. 2-D Arrays"
   ]
  },
  {
   "cell_type": "code",
   "execution_count": 62,
   "id": "ff4c4236-b273-457b-bdd7-c19c96f7041a",
   "metadata": {},
   "outputs": [
    {
     "name": "stdout",
     "output_type": "stream",
     "text": [
      "Original Array \n",
      " [[4 8 3 1]\n",
      " [9 2 5 3]\n",
      " [9 9 7 1]\n",
      " [4 9 3 7]]\n",
      "Updated Array \n",
      " [[ 4 77  3  1]\n",
      " [ 9  2 66  3]\n",
      " [ 9  9  7 22]\n",
      " [ 4  9  3  7]]\n"
     ]
    }
   ],
   "source": [
    "# Creating 2-D array of size 4x4 of int type b/w interval 1 to 9\n",
    "arr = np.random.randint(low = 1, high = 10, size = (4, 4))\n",
    "print(\"Original Array \\n\", arr)\n",
    "arr[0][1] = 77\n",
    "arr[1][2] = 66\n",
    "arr[2][-1] = 22\n",
    "print(\"Updated Array \\n\", arr)"
   ]
  },
  {
   "cell_type": "markdown",
   "id": "dda1b472-882d-475e-a3f4-0147cefc3f9f",
   "metadata": {},
   "source": [
    "## 2. Append New Elements to Numpy Arrays\n",
    "- The `np.append()` method allows us to insert new values at the end of a NumPy array.\n",
    "- The method always returns a copy of the existing numpy array with the values appended to the given axis.\n",
    "```\n",
    "np.append(arr, values, axis=None)\n",
    "```\n",
    "- Where,\n",
    "    - `arr` is the array in which we want to append\n",
    "    - `values` must be of the correct shape (the same shape as `arr` excluding `axis`)\n",
    "    - If `axis` is not specified, both `arr` and `values` are flattened before use.\n",
    "    - If `axis` is specified, then `values` must be of the correct shape (the same shape as `arr` excluding `axis`)\n",
    "- The original array remains as such, as it does not occur in-place."
   ]
  },
  {
   "cell_type": "markdown",
   "id": "19e62924-5839-47be-8516-e3023b79c021",
   "metadata": {},
   "source": [
    "### a. Appending Elements in 1-D Arrays"
   ]
  },
  {
   "cell_type": "code",
   "execution_count": 63,
   "id": "0d11203c-de4d-453c-9e0c-fe8639eed5b5",
   "metadata": {},
   "outputs": [
    {
     "name": "stdout",
     "output_type": "stream",
     "text": [
      "arr1 =  [22 74 81 40 49 82 93 71  8 44]\n"
     ]
    }
   ],
   "source": [
    "arr1 = np.random.randint(low = 1, high = 100, size = 10)\n",
    "print(\"arr1 = \", arr1)"
   ]
  },
  {
   "cell_type": "code",
   "execution_count": 64,
   "id": "b7ba6f56-04ba-4fb2-bd75-98bc3f8d3aa1",
   "metadata": {},
   "outputs": [
    {
     "name": "stdout",
     "output_type": "stream",
     "text": [
      "After append:\n",
      "arr1 =  [22 74 81 40 49 82 93 71  8 44]\n",
      "arr2 =  [ 22  74  81  40  49  82  93  71   8  44 101 202 303]\n"
     ]
    }
   ],
   "source": [
    "# You can add a scalar value or a list of values at the end of a 1-D array\n",
    "arr2 = np.append(arr1, [101, 202,303])\n",
    "print(\"After append:\")\n",
    "print(\"arr1 = \", arr1)\n",
    "print(\"arr2 = \", arr2)"
   ]
  },
  {
   "cell_type": "code",
   "execution_count": 65,
   "id": "dcdbf0e4-633c-4112-b75f-1e472fb7aaff",
   "metadata": {},
   "outputs": [
    {
     "name": "stdout",
     "output_type": "stream",
     "text": [
      "1862237709168\n",
      "1862237709648\n"
     ]
    }
   ],
   "source": [
    "print(id(arr1))\n",
    "print(id(arr2))"
   ]
  },
  {
   "cell_type": "markdown",
   "id": "57ee5dcc-0872-433f-963c-4d1623566046",
   "metadata": {},
   "source": [
    "### b. Appending Elements in 2-D Arrays"
   ]
  },
  {
   "cell_type": "markdown",
   "id": "1fb2476a-bca0-4cc8-bf4e-3553be0ec698",
   "metadata": {},
   "source": [
    "**Example:** In case of 2-D Arrays if `axis` is not mentioned both `arr` and `values` are flattened before use"
   ]
  },
  {
   "cell_type": "code",
   "execution_count": 66,
   "id": "728bc6a3-1f7a-4659-b908-fa22c3473b8a",
   "metadata": {},
   "outputs": [
    {
     "name": "stdout",
     "output_type": "stream",
     "text": [
      "arr1 = \n",
      " [[9 6 1]\n",
      " [5 7 3]\n",
      " [8 9 4]]\n"
     ]
    }
   ],
   "source": [
    "arr1 = np.random.randint(low = 1, high = 10, size = (3,3))\n",
    "print(\"arr1 = \\n\", arr1)"
   ]
  },
  {
   "cell_type": "code",
   "execution_count": 67,
   "id": "d803222e-43fa-40d1-869c-7ff6b329e924",
   "metadata": {},
   "outputs": [
    {
     "name": "stdout",
     "output_type": "stream",
     "text": [
      "After append:\n",
      "arr1 = \n",
      " [[9 6 1]\n",
      " [5 7 3]\n",
      " [8 9 4]]\n",
      "arr2 =  [  9   6   1   5   7   3   8   9   4 101 202 303 404 505]\n"
     ]
    }
   ],
   "source": [
    "# If the axis is not mentioned, values can be of any shape and both `arr` and `values` are flattened before use.\n",
    "arr2 = np.append(arr1, [101, 202,303, 404, 505])\n",
    "print(\"After append:\")\n",
    "print(\"arr1 = \\n\", arr1)\n",
    "print(\"arr2 = \", arr2)"
   ]
  },
  {
   "cell_type": "markdown",
   "id": "0609d883-ee5c-491f-86b8-ac5000ffe8ce",
   "metadata": {},
   "source": [
    "**Example:** Appending a Row to a 2-D array (`axis=0`)"
   ]
  },
  {
   "cell_type": "code",
   "execution_count": 68,
   "id": "2286956b-4b71-4be1-b7d2-a587cf439848",
   "metadata": {},
   "outputs": [
    {
     "name": "stdout",
     "output_type": "stream",
     "text": [
      "arr1 = \n",
      " [[1 9 8]\n",
      " [2 1 7]\n",
      " [8 8 1]\n",
      " [7 9 4]]\n",
      "shape:  (4, 3)\n"
     ]
    }
   ],
   "source": [
    "arr1 = np.random.randint(low = 1, high = 10, size = (4,3))\n",
    "print(\"arr1 = \\n\", arr1)\n",
    "print(\"shape: \", arr1.shape)"
   ]
  },
  {
   "cell_type": "code",
   "execution_count": 69,
   "id": "3ea5a856-c4f7-43e4-98aa-6a7a7c30bf92",
   "metadata": {},
   "outputs": [
    {
     "name": "stdout",
     "output_type": "stream",
     "text": [
      "After append:\n",
      "arr1 = \n",
      " [[1 9 8]\n",
      " [2 1 7]\n",
      " [8 8 1]\n",
      " [7 9 4]]\n",
      "arr2 = \n",
      " [[  1   9   8]\n",
      " [  2   1   7]\n",
      " [  8   8   1]\n",
      " [  7   9   4]\n",
      " [101 202 303]]\n"
     ]
    }
   ],
   "source": [
    "# For appending at axis 0, the values argument must the same shape as `arr` excluding `axis`\n",
    "# so the values should be a row vector, and in this case of shape (1,3), having 1 row and 3 columns\n",
    "arr2 = np.append(arr1, [[101, 202,303]], axis=0)\n",
    "print(\"After append:\")\n",
    "print(\"arr1 = \\n\", arr1)\n",
    "print(\"arr2 = \\n\", arr2)"
   ]
  },
  {
   "cell_type": "markdown",
   "id": "780df818-aba9-4219-909e-5c5f8b8c8517",
   "metadata": {},
   "source": [
    "**Example:** Appending a Column to a 2-D array (`axis=1`)"
   ]
  },
  {
   "cell_type": "code",
   "execution_count": 70,
   "id": "fc63ae98-7486-4e68-bad0-8a1164a68c7a",
   "metadata": {},
   "outputs": [
    {
     "name": "stdout",
     "output_type": "stream",
     "text": [
      "arr1 = \n",
      " [[2 2 6]\n",
      " [1 1 7]\n",
      " [5 5 2]\n",
      " [5 6 8]]\n",
      "shape:  (4, 3)\n"
     ]
    }
   ],
   "source": [
    "arr1 = np.random.randint(low = 1, high = 10, size = (4,3))\n",
    "print(\"arr1 = \\n\", arr1)\n",
    "print(\"shape: \", arr1.shape)"
   ]
  },
  {
   "cell_type": "code",
   "execution_count": 71,
   "id": "8035fd80-793e-4ce4-a955-e76ff5018579",
   "metadata": {},
   "outputs": [
    {
     "name": "stdout",
     "output_type": "stream",
     "text": [
      "After append:\n",
      "arr1 = \n",
      " [[2 2 6]\n",
      " [1 1 7]\n",
      " [5 5 2]\n",
      " [5 6 8]]\n",
      "arr2 = \n",
      " [[  2   2   6 101]\n",
      " [  1   1   7 202]\n",
      " [  5   5   2 303]\n",
      " [  5   6   8 404]]\n"
     ]
    }
   ],
   "source": [
    "# For appending at axis 1, the values argument must the same shape as `arr` excluding `axis`\n",
    "# so the values should be a column vector of shape (4,1), having 4 rows and 1 column\n",
    "arr2 = np.append(arr1, [[101], [202], [303], [404]], axis=1)\n",
    "print(\"After append:\")\n",
    "print(\"arr1 = \\n\", arr1)\n",
    "print(\"arr2 = \\n\", arr2)"
   ]
  },
  {
   "cell_type": "markdown",
   "id": "44266b97-e2b4-403c-92ef-20a0fdfd2a58",
   "metadata": {},
   "source": [
    "## 3. Inserting New Elements in Numpy Arrays\n",
    "- The `np.insert()` method allows us to insert new values along the given axis before the given index.\n",
    "- The method always returns a copy of the existing numpy array with the values inserted to the given axis.\n",
    "```\n",
    "np.insert(arr, index, values, axis=None)\n",
    "```\n",
    "- Where,\n",
    "    - `arr` is the array in which we want to insert\n",
    "    - `index` is the index before which we want to insert\n",
    "    - `values` [array_like] values to be added in the `arr`\n",
    "    - If `axis` is not specified, both `arr` and `values` are flattened before use.\n",
    "    - If `axis` is zero, a row is inserted (For 2-D arrays)\n",
    "    - If `axis` is one, a column is inserted (For 2-D arrays)\n",
    "- The original array remains as such, as it does not occur in-place."
   ]
  },
  {
   "cell_type": "markdown",
   "id": "9b6fb7fd-c990-437b-be74-4253d4e5c03d",
   "metadata": {},
   "source": [
    "### a. Inserting Elements in 1-D Arrays"
   ]
  },
  {
   "cell_type": "code",
   "execution_count": 72,
   "id": "b7d4252d-6ab0-494f-b80e-f40ebee4c956",
   "metadata": {},
   "outputs": [
    {
     "name": "stdout",
     "output_type": "stream",
     "text": [
      "arr1 =  [92 25 19 72 48]\n"
     ]
    }
   ],
   "source": [
    "arr1 = np.random.randint(low = 1, high = 100, size = 5)\n",
    "print(\"arr1 = \", arr1)"
   ]
  },
  {
   "cell_type": "code",
   "execution_count": 73,
   "id": "d5c52ef0-f07e-4838-988a-9943b446699c",
   "metadata": {},
   "outputs": [
    {
     "name": "stdout",
     "output_type": "stream",
     "text": [
      "After insert:\n",
      "arr1 =  [92 25 19 72 48]\n",
      "arr2 =  [92 25 19 55 66 77 72 48]\n"
     ]
    }
   ],
   "source": [
    "# You can insert a scalar value or a list of values in between array elements before the mentioned index\n",
    "arr2 = np.insert(arr1, 3, [55, 66,77])\n",
    "print(\"After insert:\")\n",
    "print(\"arr1 = \", arr1)\n",
    "print(\"arr2 = \", arr2)"
   ]
  },
  {
   "cell_type": "markdown",
   "id": "fc33e14c-274e-498b-aa86-63039ca5297a",
   "metadata": {},
   "source": [
    "### b. Inserting Elements in 2-D Arrays"
   ]
  },
  {
   "cell_type": "markdown",
   "id": "ea926fa6-6aaf-40a8-a530-408685baebcf",
   "metadata": {},
   "source": [
    "**Example:** In case of 2-D array, if `axis` is not mentioned the array is flattened first"
   ]
  },
  {
   "cell_type": "code",
   "execution_count": 74,
   "id": "589825ec-1a69-4e7b-9450-0fc35c3655c9",
   "metadata": {},
   "outputs": [
    {
     "name": "stdout",
     "output_type": "stream",
     "text": [
      "arr1 = \n",
      " [[2 4 3 7]\n",
      " [7 5 2 2]\n",
      " [6 5 9 2]]\n"
     ]
    }
   ],
   "source": [
    "arr1 = np.random.randint(low = 1, high = 10, size = (3,4))\n",
    "print(\"arr1 = \\n\", arr1)"
   ]
  },
  {
   "cell_type": "code",
   "execution_count": 75,
   "id": "40ee322f-46f2-40e4-ac20-1326de628d55",
   "metadata": {},
   "outputs": [
    {
     "name": "stdout",
     "output_type": "stream",
     "text": [
      "After insert:\n",
      "arr1 = \n",
      " [[2 4 3 7]\n",
      " [7 5 2 2]\n",
      " [6 5 9 2]]\n",
      "arr2 =  [ 2  4  3  7 55  7  5  2  2  6  5  9  2]\n"
     ]
    }
   ],
   "source": [
    "# Inserting a single value\n",
    "arr2 = np.insert(arr1, 4, 55)\n",
    "print(\"After insert:\")\n",
    "print(\"arr1 = \\n\", arr1)\n",
    "print(\"arr2 = \", arr2)"
   ]
  },
  {
   "cell_type": "code",
   "execution_count": 76,
   "id": "4edd83ab-871d-4a72-a9b5-99dd0759f5f9",
   "metadata": {},
   "outputs": [
    {
     "name": "stdout",
     "output_type": "stream",
     "text": [
      "After insert:\n",
      "arr1 = \n",
      " [[2 4 3 7]\n",
      " [7 5 2 2]\n",
      " [6 5 9 2]]\n",
      "arr2 =  [ 2  4  3  7 55 66  7  5  2  2  6  5  9  2]\n"
     ]
    }
   ],
   "source": [
    "# Inserting a multiple values\n",
    "arr2 = np.insert(arr1, 4, [55, 66])\n",
    "print(\"After insert:\")\n",
    "print(\"arr1 = \\n\", arr1)\n",
    "print(\"arr2 = \", arr2)"
   ]
  },
  {
   "cell_type": "markdown",
   "id": "9be81d8e-b05a-4a01-bfde-3b2a5edf6afe",
   "metadata": {},
   "source": [
    "**Example:** If axis=0, value(s) are added as a row before mentioned index"
   ]
  },
  {
   "cell_type": "code",
   "execution_count": 77,
   "id": "419aa50d-e43c-4c77-afbf-432932c783a0",
   "metadata": {},
   "outputs": [
    {
     "name": "stdout",
     "output_type": "stream",
     "text": [
      "arr1 = \n",
      " [[2 7 5 9]\n",
      " [3 6 7 1]\n",
      " [6 7 2 6]]\n"
     ]
    }
   ],
   "source": [
    "arr1 = np.random.randint(low = 1, high = 10, size = (3,4))\n",
    "print(\"arr1 = \\n\", arr1)"
   ]
  },
  {
   "cell_type": "code",
   "execution_count": 78,
   "id": "b6faf243-1e7e-4979-babe-9a9f05a6d2bd",
   "metadata": {},
   "outputs": [
    {
     "name": "stdout",
     "output_type": "stream",
     "text": [
      "After insert:\n",
      "arr1 = \n",
      " [[2 7 5 9]\n",
      " [3 6 7 1]\n",
      " [6 7 2 6]]\n",
      "arr2 = \n",
      " [[ 2  7  5  9]\n",
      " [ 3  6  7  1]\n",
      " [55 55 55 55]\n",
      " [ 6  7  2  6]]\n"
     ]
    }
   ],
   "source": [
    "# For axis = 0, note how the scalar value is replicated before insertion\n",
    "arr2 = np.insert(arr1, 2, 55, axis=0)\n",
    "print(\"After insert:\")\n",
    "print(\"arr1 = \\n\", arr1)\n",
    "print(\"arr2 = \\n\", arr2)"
   ]
  },
  {
   "cell_type": "code",
   "execution_count": 79,
   "id": "2a0fe77b-6432-4827-bcb4-79af662769ca",
   "metadata": {},
   "outputs": [
    {
     "name": "stdout",
     "output_type": "stream",
     "text": [
      "After insert:\n",
      "arr1 = \n",
      " [[2 7 5 9]\n",
      " [3 6 7 1]\n",
      " [6 7 2 6]]\n",
      "arr2 = \n",
      " [[ 2  7  5  9]\n",
      " [ 3  6  7  1]\n",
      " [55 66 77 88]\n",
      " [ 6  7  2  6]]\n"
     ]
    }
   ],
   "source": [
    "# For axis=0, note the size of values has to be 4 in this case (equal to number of columns)\n",
    "arr2 = np.insert(arr1, 2, [55, 66, 77, 88], axis=0)\n",
    "print(\"After insert:\")\n",
    "print(\"arr1 = \\n\", arr1)\n",
    "print(\"arr2 = \\n\", arr2)"
   ]
  },
  {
   "cell_type": "markdown",
   "id": "db279295-d783-4b66-b6ab-8793c0e54de8",
   "metadata": {},
   "source": [
    "**Example:** If axis=1, value(s) are added as a column at mentioned index"
   ]
  },
  {
   "cell_type": "code",
   "execution_count": 80,
   "id": "5df5bc8a-1ce9-4d9b-b2b7-1b40f736f094",
   "metadata": {},
   "outputs": [
    {
     "name": "stdout",
     "output_type": "stream",
     "text": [
      "arr1 = \n",
      " [[9 8 5 2]\n",
      " [3 9 8 5]\n",
      " [2 4 2 7]]\n"
     ]
    }
   ],
   "source": [
    "arr1 = np.random.randint(low = 1, high = 10, size = (3,4))\n",
    "print(\"arr1 = \\n\", arr1)"
   ]
  },
  {
   "cell_type": "code",
   "execution_count": 81,
   "id": "ed356ae5-9347-4051-8a36-d6f85a24c995",
   "metadata": {},
   "outputs": [
    {
     "name": "stdout",
     "output_type": "stream",
     "text": [
      "After insert:\n",
      "arr1 = \n",
      " [[9 8 5 2]\n",
      " [3 9 8 5]\n",
      " [2 4 2 7]]\n",
      "arr2 = \n",
      " [[ 9  8 55  5  2]\n",
      " [ 3  9 55  8  5]\n",
      " [ 2  4 55  2  7]]\n"
     ]
    }
   ],
   "source": [
    "# For axis = 1, note how the scalar value is replicated before insertion\n",
    "arr2 = np.insert(arr1, 2, 55, axis=1)\n",
    "print(\"After insert:\")\n",
    "print(\"arr1 = \\n\", arr1)\n",
    "print(\"arr2 = \\n\", arr2)"
   ]
  },
  {
   "cell_type": "code",
   "execution_count": 82,
   "id": "7de3fa37-f4cf-4800-a71f-a6e3f54eca02",
   "metadata": {},
   "outputs": [
    {
     "name": "stdout",
     "output_type": "stream",
     "text": [
      "After insert:\n",
      "arr1 = \n",
      " [[9 8 5 2]\n",
      " [3 9 8 5]\n",
      " [2 4 2 7]]\n",
      "arr2 = \n",
      " [[ 9  8 55  5  2]\n",
      " [ 3  9 66  8  5]\n",
      " [ 2  4 77  2  7]]\n"
     ]
    }
   ],
   "source": [
    "# For axis=1, note the size of values has to be 3 in this case (equal to number of rows)\n",
    "arr2 = np.insert(arr1, 2, [55, 66, 77], axis=1)\n",
    "print(\"After insert:\")\n",
    "print(\"arr1 = \\n\", arr1)\n",
    "print(\"arr2 = \\n\", arr2)"
   ]
  },
  {
   "cell_type": "markdown",
   "id": "da2566a4-2a07-40eb-8b15-11d33e94477d",
   "metadata": {},
   "source": [
    "## 4. Deleting  Elements of Numpy Arrays\n",
    "- The `np.delete()` method allows us to delete value(s) from an array at the given index\n",
    "- This function always returns a copy of the existing numpy array with the values deleted from the given axis.\n",
    "- If axis is not specified, values can be of any shape and will be flattened before use\n",
    "```\n",
    "np.delete(arr, index, axis=None)\n",
    "```\n",
    "- The original array remains as such, as it does not occur in-place."
   ]
  },
  {
   "cell_type": "code",
   "execution_count": 83,
   "id": "b6d25de5-971b-4faf-b103-32ca7d4a0b99",
   "metadata": {},
   "outputs": [],
   "source": [
    "### a. Deleting Elements from a 1-D Arrays"
   ]
  },
  {
   "cell_type": "markdown",
   "id": "08d1d832-57ec-4aa5-99e6-f3bd44b3c9b0",
   "metadata": {},
   "source": [
    "**Example:**"
   ]
  },
  {
   "cell_type": "code",
   "execution_count": 84,
   "id": "aeb6e463-e119-4a6a-ad49-5b46aff8ae8f",
   "metadata": {},
   "outputs": [
    {
     "name": "stdout",
     "output_type": "stream",
     "text": [
      "arr1 =  [7 8 5 3 4]\n"
     ]
    }
   ],
   "source": [
    "arr1 = np.random.randint(low = 1, high = 10, size = 5)\n",
    "print(\"arr1 = \", arr1)"
   ]
  },
  {
   "cell_type": "code",
   "execution_count": 85,
   "id": "f3af107f-5d5b-4db5-8848-3feab6a32cf4",
   "metadata": {},
   "outputs": [
    {
     "name": "stdout",
     "output_type": "stream",
     "text": [
      "After delete:\n",
      "arr1 =  [7 8 5 3 4]\n",
      "arr2 =  [7 8 5 4]\n"
     ]
    }
   ],
   "source": [
    "# You can delete a scalar value from a specific index\n",
    "arr2 = np.delete(arr1, 3)\n",
    "print(\"After delete:\")\n",
    "print(\"arr1 = \", arr1)\n",
    "print(\"arr2 = \", arr2)"
   ]
  },
  {
   "cell_type": "markdown",
   "id": "039754f6-afe6-4bb9-a9d9-5e4bcb408cf9",
   "metadata": {},
   "source": [
    "**Example:**"
   ]
  },
  {
   "cell_type": "code",
   "execution_count": 86,
   "id": "bd38527f-ccb6-415a-905a-1339aba493c2",
   "metadata": {},
   "outputs": [
    {
     "name": "stdout",
     "output_type": "stream",
     "text": [
      "arr1 =  [75 99 69 50  4 99 27 59 53 55]\n"
     ]
    }
   ],
   "source": [
    "arr1 = np.random.randint(low = 1, high = 100, size = 10)\n",
    "print(\"arr1 = \", arr1)"
   ]
  },
  {
   "cell_type": "code",
   "execution_count": 87,
   "id": "33eb1d08-746e-4dcf-a86b-7cf6b889b804",
   "metadata": {},
   "outputs": [
    {
     "name": "stdout",
     "output_type": "stream",
     "text": [
      "After delete:\n",
      "arr1 =  [75 99 69 50  4 99 27 59 53 55]\n",
      "arr2 =  [75 99 50  4 27 59 53 55]\n"
     ]
    }
   ],
   "source": [
    "# You can delete a list of values in between array elements from specific indices\n",
    "arr2 = np.delete(arr1, [2,5])\n",
    "print(\"After delete:\")\n",
    "print(\"arr1 = \", arr1)\n",
    "print(\"arr2 = \", arr2)"
   ]
  },
  {
   "cell_type": "markdown",
   "id": "c50fa2d1-e4a9-4565-85e9-286ff8cd8a74",
   "metadata": {},
   "source": [
    "### b. Deleting Elements from a 2-D Arrays"
   ]
  },
  {
   "cell_type": "markdown",
   "id": "c11a2e63-f68a-4d32-82a0-a63afaf95fe9",
   "metadata": {},
   "source": [
    "**Example:** Delete a specific element from a 2-D array, don't mention the axis. The resulting array is flattened before use"
   ]
  },
  {
   "cell_type": "code",
   "execution_count": 88,
   "id": "2660c9e8-47ca-4d42-8816-d68985c615c3",
   "metadata": {},
   "outputs": [
    {
     "name": "stdout",
     "output_type": "stream",
     "text": [
      "arr1 = \n",
      " [[9 6 4]\n",
      " [3 8 5]\n",
      " [7 6 8]]\n"
     ]
    }
   ],
   "source": [
    "arr1 = np.random.randint(low = 1, high = 10, size = (3,3))\n",
    "print(\"arr1 = \\n\", arr1)"
   ]
  },
  {
   "cell_type": "code",
   "execution_count": 89,
   "id": "f9d8a269-951d-4fa5-a7dc-c859590c8f04",
   "metadata": {},
   "outputs": [
    {
     "name": "stdout",
     "output_type": "stream",
     "text": [
      "After delete:\n",
      "arr1 = \n",
      " [[9 6 4]\n",
      " [3 8 5]\n",
      " [7 6 8]]\n",
      "arr2 =  [9 6 4 3 8 7 6 8]\n"
     ]
    }
   ],
   "source": [
    "arr2 = np.delete(arr1, 5)\n",
    "print(\"After delete:\")\n",
    "print(\"arr1 = \\n\", arr1)\n",
    "print(\"arr2 = \", arr2)"
   ]
  },
  {
   "cell_type": "markdown",
   "id": "bc4e0823-f178-4cc5-99eb-aa0ae5ca7678",
   "metadata": {},
   "source": [
    "**Example:**  Delete a specific row from an existing 2-D array"
   ]
  },
  {
   "cell_type": "code",
   "execution_count": 90,
   "id": "5c5dd9df-fca5-4b6f-80f6-08f900dea2fd",
   "metadata": {},
   "outputs": [
    {
     "name": "stdout",
     "output_type": "stream",
     "text": [
      "arr1 = \n",
      " [[6 7 7 5]\n",
      " [6 3 9 9]\n",
      " [2 1 9 7]\n",
      " [8 9 4 2]]\n"
     ]
    }
   ],
   "source": [
    "arr1 = np.random.randint(low = 1, high = 10, size = (4,4))\n",
    "print(\"arr1 = \\n\", arr1)"
   ]
  },
  {
   "cell_type": "code",
   "execution_count": 91,
   "id": "02d924ca-b913-4ab3-8b40-0ec6ab45c851",
   "metadata": {},
   "outputs": [
    {
     "name": "stdout",
     "output_type": "stream",
     "text": [
      "After delete:\n",
      "arr1 = \n",
      " [[6 7 7 5]\n",
      " [6 3 9 9]\n",
      " [2 1 9 7]\n",
      " [8 9 4 2]]\n",
      "arr2 = \n",
      " [[6 7 7 5]\n",
      " [6 3 9 9]\n",
      " [8 9 4 2]]\n"
     ]
    }
   ],
   "source": [
    "arr2 = np.delete(arr1, 2, axis=0)\n",
    "print(\"After delete:\")\n",
    "print(\"arr1 = \\n\", arr1)\n",
    "print(\"arr2 = \\n\", arr2)"
   ]
  },
  {
   "cell_type": "markdown",
   "id": "15fedebd-0fc7-407b-a5c3-9cfea8be3f59",
   "metadata": {},
   "source": [
    "**Example:**  Delete a specific column from an existing 2-D array"
   ]
  },
  {
   "cell_type": "code",
   "execution_count": 92,
   "id": "e5c8ccd5-8e8e-479d-a7ab-e0172c81cb3d",
   "metadata": {},
   "outputs": [
    {
     "name": "stdout",
     "output_type": "stream",
     "text": [
      "arr1 = \n",
      " [[6 3 4 3]\n",
      " [2 1 3 3]\n",
      " [1 3 6 6]\n",
      " [6 1 9 2]]\n"
     ]
    }
   ],
   "source": [
    "arr1 = np.random.randint(low = 1, high = 10, size = (4,4))\n",
    "print(\"arr1 = \\n\", arr1)"
   ]
  },
  {
   "cell_type": "code",
   "execution_count": 93,
   "id": "7db14a9f-73d6-4a54-904a-907ab0705d4a",
   "metadata": {},
   "outputs": [
    {
     "name": "stdout",
     "output_type": "stream",
     "text": [
      "After delete:\n",
      "arr1 = \n",
      " [[6 3 4 3]\n",
      " [2 1 3 3]\n",
      " [1 3 6 6]\n",
      " [6 1 9 2]]\n",
      "arr2 = \n",
      " [[6 3 3]\n",
      " [2 1 3]\n",
      " [1 3 6]\n",
      " [6 1 2]]\n"
     ]
    }
   ],
   "source": [
    "arr2 = np.delete(arr1, 2, axis=1)\n",
    "print(\"After delete:\")\n",
    "print(\"arr1 = \\n\", arr1)\n",
    "print(\"arr2 = \\n\", arr2)"
   ]
  },
  {
   "cell_type": "markdown",
   "id": "9e163375-c756-47ef-b660-329201d74705",
   "metadata": {},
   "source": [
    "## 5. Assigning vs Coping NumPy Arrays"
   ]
  },
  {
   "cell_type": "markdown",
   "id": "7b38b300-cafa-4dcd-abc5-a05742075da6",
   "metadata": {},
   "source": [
    "### a. Assigning two NumPy Arrays (Create an alias)"
   ]
  },
  {
   "cell_type": "code",
   "execution_count": 94,
   "id": "682d2362-0f20-494d-843a-9b13d1d806bf",
   "metadata": {},
   "outputs": [
    {
     "name": "stdout",
     "output_type": "stream",
     "text": [
      "arr1 =  [4 8 1 3 9 6 2 5 2 7]\n",
      "arr2 =  [4 8 1 3 9 6 2 5 2 7]\n",
      "1862237704656\n",
      "1862237704656\n"
     ]
    }
   ],
   "source": [
    "arr1 = np.random.randint(low = 1, high = 10, size = 10)\n",
    "\n",
    "# Creating a copy using assignment operator, both variables point at the same array\n",
    "arr2 = arr1\n",
    "\n",
    "print(\"arr1 = \", arr1)\n",
    "print(\"arr2 = \", arr2)\n",
    "print(id(arr1))\n",
    "print(id(arr2))"
   ]
  },
  {
   "cell_type": "code",
   "execution_count": 95,
   "id": "8151be43-e56b-4a37-b35d-1f5b251725b9",
   "metadata": {},
   "outputs": [
    {
     "name": "stdout",
     "output_type": "stream",
     "text": [
      "arr1 =  [ 4  8 55  3  9  6  2  5  2  7]\n",
      "arr2 =  [ 4  8 55  3  9  6  2  5  2  7]\n"
     ]
    }
   ],
   "source": [
    "# Change value in arr1 will also occur in arr2\n",
    "arr2[2] = 55\n",
    "print(\"arr1 = \", arr1)\n",
    "print(\"arr2 = \", arr2)\n"
   ]
  },
  {
   "cell_type": "markdown",
   "id": "ebfa2012-2cf9-4992-acd1-fbe9f63e9b6a",
   "metadata": {},
   "source": [
    "### b. View/Shallow Copy\n",
    "Arrays that share some data. The view method creates an object looking at the same data. Slicing an array returns a view of that array."
   ]
  },
  {
   "cell_type": "code",
   "execution_count": 96,
   "id": "951521ee-61c7-45c7-bd24-99320897c72c",
   "metadata": {},
   "outputs": [
    {
     "name": "stdout",
     "output_type": "stream",
     "text": [
      "arr1 =  [5 1 1 4 5 4 2 5 7 1]\n",
      "arr2 =  [5 1 1 4 5 4 2 5 7 1]\n",
      "1862237711184\n",
      "1862237710800\n"
     ]
    }
   ],
   "source": [
    "import numpy as np\n",
    "arr1 = np.random.randint(low = 1, high = 10, size = 10)\n",
    "\n",
    "# Creating a shallow copy (view) using slice operator\n",
    "arr2 = arr1[:]\n",
    "\n",
    "print(\"arr1 = \", arr1)\n",
    "print(\"arr2 = \", arr2)\n",
    "print(id(arr1))\n",
    "print(id(arr2))"
   ]
  },
  {
   "cell_type": "code",
   "execution_count": 97,
   "id": "b69cddff-bf9d-4f73-b374-1d8b60c81b53",
   "metadata": {},
   "outputs": [
    {
     "name": "stdout",
     "output_type": "stream",
     "text": [
      "arr1 =  [ 5  1 55  4  5  4  2  5  7  1]\n",
      "arr2 =  [ 5  1 55  4  5  4  2  5  7  1]\n"
     ]
    }
   ],
   "source": [
    "# Change value in arr1 will occur in arr2\n",
    "arr2[2] = 55\n",
    "\n",
    "print(\"arr1 = \", arr1)\n",
    "print(\"arr2 = \", arr2)"
   ]
  },
  {
   "cell_type": "markdown",
   "id": "f012ca41-c788-4442-928d-52b86b150848",
   "metadata": {},
   "source": [
    "### c. Deep Copy"
   ]
  },
  {
   "cell_type": "code",
   "execution_count": 98,
   "id": "0cb4005a-af8d-48d3-9cf8-75d77a96e182",
   "metadata": {},
   "outputs": [
    {
     "name": "stdout",
     "output_type": "stream",
     "text": [
      "arr1 =  [1 8 3 5 1 5 3 9 6 1]\n",
      "arr2 =  [1 8 3 5 1 5 3 9 6 1]\n",
      "1862237711280\n",
      "1862237704656\n"
     ]
    }
   ],
   "source": [
    "arr1 = np.random.randint(low = 1, high = 10, size = 10)\n",
    "\n",
    "# Create a Deep copy using copy() method, which will create a new copy of the array\n",
    "arr2 = arr1.copy()\n",
    "print(\"arr1 = \", arr1)\n",
    "print(\"arr2 = \", arr2)\n",
    "print(id(arr1))\n",
    "print(id(arr2))"
   ]
  },
  {
   "cell_type": "code",
   "execution_count": 99,
   "id": "9cbaa40f-6a98-4505-a850-fc821defb4ff",
   "metadata": {},
   "outputs": [
    {
     "name": "stdout",
     "output_type": "stream",
     "text": [
      "arr1 =  [1 8 3 5 1 5 3 9 6 1]\n",
      "arr2 =  [ 1  8 55  5  1  5  3  9  6  1]\n"
     ]
    }
   ],
   "source": [
    "# Change value in array 1 will NOT occur in array 2\n",
    "arr2[2] = 55\n",
    "\n",
    "print(\"arr1 = \", arr1)\n",
    "print(\"arr2 = \", arr2)"
   ]
  },
  {
   "cell_type": "code",
   "execution_count": null,
   "id": "b6f4ed1e-00c5-42d0-992b-90e5f2e7cec5",
   "metadata": {},
   "outputs": [],
   "source": []
  }
 ],
 "metadata": {
  "kernelspec": {
   "display_name": "Python 3 (ipykernel)",
   "language": "python",
   "name": "python3"
  },
  "language_info": {
   "codemirror_mode": {
    "name": "ipython",
    "version": 3
   },
   "file_extension": ".py",
   "mimetype": "text/x-python",
   "name": "python",
   "nbconvert_exporter": "python",
   "pygments_lexer": "ipython3",
   "version": "3.12.4"
  }
 },
 "nbformat": 4,
 "nbformat_minor": 5
}
